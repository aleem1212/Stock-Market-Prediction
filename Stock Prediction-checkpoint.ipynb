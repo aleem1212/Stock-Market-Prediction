{
 "cells": [
  {
   "cell_type": "code",
   "execution_count": 1,
   "metadata": {},
   "outputs": [],
   "source": [
    "import pandas as pd\n",
    "import numpy as np\n",
    "import matplotlib.pyplot as plt\n",
    "from sklearn.ensemble import RandomForestRegressor\n",
    "from sklearn.model_selection import train_test_split\n",
    "from sklearn.metrics import mean_squared_error\n",
    "\n",
    "%matplotlib inline\n"
   ]
  },
  {
   "cell_type": "code",
   "execution_count": 2,
   "metadata": {},
   "outputs": [
    {
     "name": "stdout",
     "output_type": "stream",
     "text": [
      "<class 'pandas.core.frame.DataFrame'>\n",
      "RangeIndex: 5296 entries, 0 to 5295\n",
      "Data columns (total 13 columns):\n",
      " #   Column                     Non-Null Count  Dtype  \n",
      "---  ------                     --------------  -----  \n",
      " 0   Date                       5296 non-null   object \n",
      " 1   Open Price                 5296 non-null   float64\n",
      " 2   High Price                 5296 non-null   float64\n",
      " 3   Low Price                  5296 non-null   float64\n",
      " 4   Close Price                5296 non-null   float64\n",
      " 5   WAP                        5296 non-null   float64\n",
      " 6   No.of Shares               5296 non-null   int64  \n",
      " 7   No. of Trades              5296 non-null   int64  \n",
      " 8   Total Turnover (Rs.)       5296 non-null   float64\n",
      " 9   Deliverable Quantity       4792 non-null   float64\n",
      " 10  % Deli. Qty to Traded Qty  4792 non-null   float64\n",
      " 11  Spread High-Low            5296 non-null   float64\n",
      " 12  Spread Close-Open          5296 non-null   float64\n",
      "dtypes: float64(10), int64(2), object(1)\n",
      "memory usage: 517.2+ KB\n"
     ]
    }
   ],
   "source": [
    "df =pd.read_csv('500209.csv')\n",
    "df.info()"
   ]
  },
  {
   "cell_type": "code",
   "execution_count": 3,
   "metadata": {},
   "outputs": [],
   "source": [
    "df.Date=pd.to_datetime(df.Date)"
   ]
  },
  {
   "cell_type": "code",
   "execution_count": 4,
   "metadata": {
    "scrolled": true
   },
   "outputs": [
    {
     "data": {
      "text/html": [
       "<div>\n",
       "<style scoped>\n",
       "    .dataframe tbody tr th:only-of-type {\n",
       "        vertical-align: middle;\n",
       "    }\n",
       "\n",
       "    .dataframe tbody tr th {\n",
       "        vertical-align: top;\n",
       "    }\n",
       "\n",
       "    .dataframe thead th {\n",
       "        text-align: right;\n",
       "    }\n",
       "</style>\n",
       "<table border=\"1\" class=\"dataframe\">\n",
       "  <thead>\n",
       "    <tr style=\"text-align: right;\">\n",
       "      <th></th>\n",
       "      <th>Open Price</th>\n",
       "      <th>High Price</th>\n",
       "      <th>Low Price</th>\n",
       "      <th>Close Price</th>\n",
       "      <th>WAP</th>\n",
       "      <th>No.of Shares</th>\n",
       "      <th>No. of Trades</th>\n",
       "      <th>Total Turnover (Rs.)</th>\n",
       "      <th>Deliverable Quantity</th>\n",
       "      <th>% Deli. Qty to Traded Qty</th>\n",
       "      <th>Spread High-Low</th>\n",
       "      <th>Spread Close-Open</th>\n",
       "    </tr>\n",
       "    <tr>\n",
       "      <th>Date</th>\n",
       "      <th></th>\n",
       "      <th></th>\n",
       "      <th></th>\n",
       "      <th></th>\n",
       "      <th></th>\n",
       "      <th></th>\n",
       "      <th></th>\n",
       "      <th></th>\n",
       "      <th></th>\n",
       "      <th></th>\n",
       "      <th></th>\n",
       "      <th></th>\n",
       "    </tr>\n",
       "  </thead>\n",
       "  <tbody>\n",
       "    <tr>\n",
       "      <th>2021-06-04</th>\n",
       "      <td>1392.00</td>\n",
       "      <td>1396.50</td>\n",
       "      <td>1377.9</td>\n",
       "      <td>1385.20</td>\n",
       "      <td>1386.142576</td>\n",
       "      <td>108272</td>\n",
       "      <td>4901</td>\n",
       "      <td>1.500804e+08</td>\n",
       "      <td>40390.0</td>\n",
       "      <td>37.30</td>\n",
       "      <td>18.60</td>\n",
       "      <td>-6.80</td>\n",
       "    </tr>\n",
       "    <tr>\n",
       "      <th>2021-06-03</th>\n",
       "      <td>1382.00</td>\n",
       "      <td>1398.65</td>\n",
       "      <td>1377.2</td>\n",
       "      <td>1389.50</td>\n",
       "      <td>1386.545266</td>\n",
       "      <td>243404</td>\n",
       "      <td>12798</td>\n",
       "      <td>3.374907e+08</td>\n",
       "      <td>103459.0</td>\n",
       "      <td>42.50</td>\n",
       "      <td>21.45</td>\n",
       "      <td>7.50</td>\n",
       "    </tr>\n",
       "    <tr>\n",
       "      <th>2021-06-02</th>\n",
       "      <td>1378.65</td>\n",
       "      <td>1392.00</td>\n",
       "      <td>1362.2</td>\n",
       "      <td>1379.75</td>\n",
       "      <td>1366.888615</td>\n",
       "      <td>1906584</td>\n",
       "      <td>31599</td>\n",
       "      <td>2.606088e+09</td>\n",
       "      <td>1441943.0</td>\n",
       "      <td>75.63</td>\n",
       "      <td>29.80</td>\n",
       "      <td>1.10</td>\n",
       "    </tr>\n",
       "    <tr>\n",
       "      <th>2021-06-01</th>\n",
       "      <td>1400.00</td>\n",
       "      <td>1400.80</td>\n",
       "      <td>1378.6</td>\n",
       "      <td>1387.40</td>\n",
       "      <td>1385.129123</td>\n",
       "      <td>184134</td>\n",
       "      <td>7222</td>\n",
       "      <td>2.550494e+08</td>\n",
       "      <td>90643.0</td>\n",
       "      <td>49.23</td>\n",
       "      <td>22.20</td>\n",
       "      <td>-12.60</td>\n",
       "    </tr>\n",
       "    <tr>\n",
       "      <th>2021-05-31</th>\n",
       "      <td>1405.00</td>\n",
       "      <td>1405.00</td>\n",
       "      <td>1383.1</td>\n",
       "      <td>1393.65</td>\n",
       "      <td>1391.983909</td>\n",
       "      <td>1009210</td>\n",
       "      <td>12189</td>\n",
       "      <td>1.404804e+09</td>\n",
       "      <td>813022.0</td>\n",
       "      <td>80.56</td>\n",
       "      <td>21.90</td>\n",
       "      <td>-11.35</td>\n",
       "    </tr>\n",
       "  </tbody>\n",
       "</table>\n",
       "</div>"
      ],
      "text/plain": [
       "            Open Price  High Price  Low Price  Close Price          WAP  \\\n",
       "Date                                                                      \n",
       "2021-06-04     1392.00     1396.50     1377.9      1385.20  1386.142576   \n",
       "2021-06-03     1382.00     1398.65     1377.2      1389.50  1386.545266   \n",
       "2021-06-02     1378.65     1392.00     1362.2      1379.75  1366.888615   \n",
       "2021-06-01     1400.00     1400.80     1378.6      1387.40  1385.129123   \n",
       "2021-05-31     1405.00     1405.00     1383.1      1393.65  1391.983909   \n",
       "\n",
       "            No.of Shares  No. of Trades  Total Turnover (Rs.)  \\\n",
       "Date                                                            \n",
       "2021-06-04        108272           4901          1.500804e+08   \n",
       "2021-06-03        243404          12798          3.374907e+08   \n",
       "2021-06-02       1906584          31599          2.606088e+09   \n",
       "2021-06-01        184134           7222          2.550494e+08   \n",
       "2021-05-31       1009210          12189          1.404804e+09   \n",
       "\n",
       "            Deliverable Quantity  % Deli. Qty to Traded Qty  Spread High-Low  \\\n",
       "Date                                                                           \n",
       "2021-06-04               40390.0                      37.30            18.60   \n",
       "2021-06-03              103459.0                      42.50            21.45   \n",
       "2021-06-02             1441943.0                      75.63            29.80   \n",
       "2021-06-01               90643.0                      49.23            22.20   \n",
       "2021-05-31              813022.0                      80.56            21.90   \n",
       "\n",
       "            Spread Close-Open  \n",
       "Date                           \n",
       "2021-06-04              -6.80  \n",
       "2021-06-03               7.50  \n",
       "2021-06-02               1.10  \n",
       "2021-06-01             -12.60  \n",
       "2021-05-31             -11.35  "
      ]
     },
     "execution_count": 4,
     "metadata": {},
     "output_type": "execute_result"
    }
   ],
   "source": [
    "df.set_index('Date',inplace=True)\n",
    "df.head()"
   ]
  },
  {
   "cell_type": "code",
   "execution_count": 5,
   "metadata": {},
   "outputs": [],
   "source": [
    "df=df.iloc[::-1]\n",
    "df['Target']=df['Close Price'].shift(periods=-1)"
   ]
  },
  {
   "cell_type": "code",
   "execution_count": 6,
   "metadata": {},
   "outputs": [
    {
     "data": {
      "text/html": [
       "<div>\n",
       "<style scoped>\n",
       "    .dataframe tbody tr th:only-of-type {\n",
       "        vertical-align: middle;\n",
       "    }\n",
       "\n",
       "    .dataframe tbody tr th {\n",
       "        vertical-align: top;\n",
       "    }\n",
       "\n",
       "    .dataframe thead th {\n",
       "        text-align: right;\n",
       "    }\n",
       "</style>\n",
       "<table border=\"1\" class=\"dataframe\">\n",
       "  <thead>\n",
       "    <tr style=\"text-align: right;\">\n",
       "      <th></th>\n",
       "      <th>Open Price</th>\n",
       "      <th>High Price</th>\n",
       "      <th>Low Price</th>\n",
       "      <th>Close Price</th>\n",
       "      <th>WAP</th>\n",
       "      <th>No.of Shares</th>\n",
       "      <th>No. of Trades</th>\n",
       "      <th>Total Turnover (Rs.)</th>\n",
       "      <th>Deliverable Quantity</th>\n",
       "      <th>% Deli. Qty to Traded Qty</th>\n",
       "      <th>Spread High-Low</th>\n",
       "      <th>Spread Close-Open</th>\n",
       "      <th>Target</th>\n",
       "    </tr>\n",
       "    <tr>\n",
       "      <th>Date</th>\n",
       "      <th></th>\n",
       "      <th></th>\n",
       "      <th></th>\n",
       "      <th></th>\n",
       "      <th></th>\n",
       "      <th></th>\n",
       "      <th></th>\n",
       "      <th></th>\n",
       "      <th></th>\n",
       "      <th></th>\n",
       "      <th></th>\n",
       "      <th></th>\n",
       "      <th></th>\n",
       "    </tr>\n",
       "  </thead>\n",
       "  <tbody>\n",
       "    <tr>\n",
       "      <th>2021-05-31</th>\n",
       "      <td>1405.00</td>\n",
       "      <td>1405.00</td>\n",
       "      <td>1383.1</td>\n",
       "      <td>1393.65</td>\n",
       "      <td>1391.983909</td>\n",
       "      <td>1009210</td>\n",
       "      <td>12189</td>\n",
       "      <td>1.404804e+09</td>\n",
       "      <td>813022.0</td>\n",
       "      <td>80.56</td>\n",
       "      <td>21.90</td>\n",
       "      <td>-11.35</td>\n",
       "      <td>1387.40</td>\n",
       "    </tr>\n",
       "    <tr>\n",
       "      <th>2021-06-01</th>\n",
       "      <td>1400.00</td>\n",
       "      <td>1400.80</td>\n",
       "      <td>1378.6</td>\n",
       "      <td>1387.40</td>\n",
       "      <td>1385.129123</td>\n",
       "      <td>184134</td>\n",
       "      <td>7222</td>\n",
       "      <td>2.550494e+08</td>\n",
       "      <td>90643.0</td>\n",
       "      <td>49.23</td>\n",
       "      <td>22.20</td>\n",
       "      <td>-12.60</td>\n",
       "      <td>1379.75</td>\n",
       "    </tr>\n",
       "    <tr>\n",
       "      <th>2021-06-02</th>\n",
       "      <td>1378.65</td>\n",
       "      <td>1392.00</td>\n",
       "      <td>1362.2</td>\n",
       "      <td>1379.75</td>\n",
       "      <td>1366.888615</td>\n",
       "      <td>1906584</td>\n",
       "      <td>31599</td>\n",
       "      <td>2.606088e+09</td>\n",
       "      <td>1441943.0</td>\n",
       "      <td>75.63</td>\n",
       "      <td>29.80</td>\n",
       "      <td>1.10</td>\n",
       "      <td>1389.50</td>\n",
       "    </tr>\n",
       "    <tr>\n",
       "      <th>2021-06-03</th>\n",
       "      <td>1382.00</td>\n",
       "      <td>1398.65</td>\n",
       "      <td>1377.2</td>\n",
       "      <td>1389.50</td>\n",
       "      <td>1386.545266</td>\n",
       "      <td>243404</td>\n",
       "      <td>12798</td>\n",
       "      <td>3.374907e+08</td>\n",
       "      <td>103459.0</td>\n",
       "      <td>42.50</td>\n",
       "      <td>21.45</td>\n",
       "      <td>7.50</td>\n",
       "      <td>1385.20</td>\n",
       "    </tr>\n",
       "    <tr>\n",
       "      <th>2021-06-04</th>\n",
       "      <td>1392.00</td>\n",
       "      <td>1396.50</td>\n",
       "      <td>1377.9</td>\n",
       "      <td>1385.20</td>\n",
       "      <td>1386.142576</td>\n",
       "      <td>108272</td>\n",
       "      <td>4901</td>\n",
       "      <td>1.500804e+08</td>\n",
       "      <td>40390.0</td>\n",
       "      <td>37.30</td>\n",
       "      <td>18.60</td>\n",
       "      <td>-6.80</td>\n",
       "      <td>NaN</td>\n",
       "    </tr>\n",
       "  </tbody>\n",
       "</table>\n",
       "</div>"
      ],
      "text/plain": [
       "            Open Price  High Price  Low Price  Close Price          WAP  \\\n",
       "Date                                                                      \n",
       "2021-05-31     1405.00     1405.00     1383.1      1393.65  1391.983909   \n",
       "2021-06-01     1400.00     1400.80     1378.6      1387.40  1385.129123   \n",
       "2021-06-02     1378.65     1392.00     1362.2      1379.75  1366.888615   \n",
       "2021-06-03     1382.00     1398.65     1377.2      1389.50  1386.545266   \n",
       "2021-06-04     1392.00     1396.50     1377.9      1385.20  1386.142576   \n",
       "\n",
       "            No.of Shares  No. of Trades  Total Turnover (Rs.)  \\\n",
       "Date                                                            \n",
       "2021-05-31       1009210          12189          1.404804e+09   \n",
       "2021-06-01        184134           7222          2.550494e+08   \n",
       "2021-06-02       1906584          31599          2.606088e+09   \n",
       "2021-06-03        243404          12798          3.374907e+08   \n",
       "2021-06-04        108272           4901          1.500804e+08   \n",
       "\n",
       "            Deliverable Quantity  % Deli. Qty to Traded Qty  Spread High-Low  \\\n",
       "Date                                                                           \n",
       "2021-05-31              813022.0                      80.56            21.90   \n",
       "2021-06-01               90643.0                      49.23            22.20   \n",
       "2021-06-02             1441943.0                      75.63            29.80   \n",
       "2021-06-03              103459.0                      42.50            21.45   \n",
       "2021-06-04               40390.0                      37.30            18.60   \n",
       "\n",
       "            Spread Close-Open   Target  \n",
       "Date                                    \n",
       "2021-05-31             -11.35  1387.40  \n",
       "2021-06-01             -12.60  1379.75  \n",
       "2021-06-02               1.10  1389.50  \n",
       "2021-06-03               7.50  1385.20  \n",
       "2021-06-04              -6.80      NaN  "
      ]
     },
     "execution_count": 6,
     "metadata": {},
     "output_type": "execute_result"
    }
   ],
   "source": [
    "df.tail()"
   ]
  },
  {
   "cell_type": "code",
   "execution_count": 7,
   "metadata": {},
   "outputs": [
    {
     "data": {
      "text/plain": [
       "(5296, 13)"
      ]
     },
     "execution_count": 7,
     "metadata": {},
     "output_type": "execute_result"
    }
   ],
   "source": [
    "df.shape"
   ]
  },
  {
   "cell_type": "code",
   "execution_count": 8,
   "metadata": {},
   "outputs": [],
   "source": [
    "df_m=df"
   ]
  },
  {
   "cell_type": "code",
   "execution_count": null,
   "metadata": {},
   "outputs": [],
   "source": []
  },
  {
   "cell_type": "code",
   "execution_count": 9,
   "metadata": {},
   "outputs": [],
   "source": [
    "df_m=df_m.dropna()"
   ]
  },
  {
   "cell_type": "code",
   "execution_count": 10,
   "metadata": {},
   "outputs": [
    {
     "data": {
      "text/plain": [
       "(4791, 13)"
      ]
     },
     "execution_count": 10,
     "metadata": {},
     "output_type": "execute_result"
    }
   ],
   "source": [
    "df_m.shape"
   ]
  },
  {
   "cell_type": "code",
   "execution_count": 11,
   "metadata": {},
   "outputs": [
    {
     "name": "stdout",
     "output_type": "stream",
     "text": [
      "            Open Price  High Price  Low Price  Close Price          WAP  \\\n",
      "Date                                                                      \n",
      "2002-02-08      3700.0      3816.0    3675.00      3690.35  3742.030493   \n",
      "2002-02-15      3819.0      3875.0    3815.35      3839.75  3841.530252   \n",
      "2002-02-18      3848.0      3848.0    3705.00      3730.25  3739.254412   \n",
      "2002-02-19      3761.0      3788.0    3683.00      3701.90  3738.977287   \n",
      "2002-02-20      3701.0      3701.0    3630.00      3650.70  3656.909090   \n",
      "\n",
      "            No.of Shares  No. of Trades  Total Turnover (Rs.)  \\\n",
      "Date                                                            \n",
      "2002-02-08        340836          21669          1.275419e+09   \n",
      "2002-02-15        226830          12703          8.713743e+08   \n",
      "2002-02-18        237776          12070          8.891050e+08   \n",
      "2002-02-19        294594          15304          1.101480e+09   \n",
      "2002-02-20        228644          14753          8.361303e+08   \n",
      "\n",
      "            Deliverable Quantity  % Deli. Qty to Traded Qty  Spread High-Low  \\\n",
      "Date                                                                           \n",
      "2002-02-08               51044.0                      14.98           141.00   \n",
      "2002-02-15               55589.0                      24.51            59.65   \n",
      "2002-02-18               70159.0                      29.51           143.00   \n",
      "2002-02-19               70812.0                      24.04           105.00   \n",
      "2002-02-20               42834.0                      18.73            71.00   \n",
      "\n",
      "            Spread Close-Open   Target  \n",
      "Date                                    \n",
      "2002-02-08              -9.65  3735.50  \n",
      "2002-02-15              20.75  3730.25  \n",
      "2002-02-18            -117.75  3701.90  \n",
      "2002-02-19             -59.10  3650.70  \n",
      "2002-02-20             -50.30  3659.60  \n"
     ]
    },
    {
     "data": {
      "text/html": [
       "<div>\n",
       "<style scoped>\n",
       "    .dataframe tbody tr th:only-of-type {\n",
       "        vertical-align: middle;\n",
       "    }\n",
       "\n",
       "    .dataframe tbody tr th {\n",
       "        vertical-align: top;\n",
       "    }\n",
       "\n",
       "    .dataframe thead th {\n",
       "        text-align: right;\n",
       "    }\n",
       "</style>\n",
       "<table border=\"1\" class=\"dataframe\">\n",
       "  <thead>\n",
       "    <tr style=\"text-align: right;\">\n",
       "      <th></th>\n",
       "      <th>Open Price</th>\n",
       "      <th>High Price</th>\n",
       "      <th>Low Price</th>\n",
       "      <th>Close Price</th>\n",
       "      <th>WAP</th>\n",
       "      <th>No.of Shares</th>\n",
       "      <th>No. of Trades</th>\n",
       "      <th>Total Turnover (Rs.)</th>\n",
       "      <th>Deliverable Quantity</th>\n",
       "      <th>% Deli. Qty to Traded Qty</th>\n",
       "      <th>Spread High-Low</th>\n",
       "      <th>Spread Close-Open</th>\n",
       "      <th>Target</th>\n",
       "    </tr>\n",
       "    <tr>\n",
       "      <th>Date</th>\n",
       "      <th></th>\n",
       "      <th></th>\n",
       "      <th></th>\n",
       "      <th></th>\n",
       "      <th></th>\n",
       "      <th></th>\n",
       "      <th></th>\n",
       "      <th></th>\n",
       "      <th></th>\n",
       "      <th></th>\n",
       "      <th></th>\n",
       "      <th></th>\n",
       "      <th></th>\n",
       "    </tr>\n",
       "  </thead>\n",
       "  <tbody>\n",
       "    <tr>\n",
       "      <th>2021-05-28</th>\n",
       "      <td>1411.85</td>\n",
       "      <td>1414.00</td>\n",
       "      <td>1396.35</td>\n",
       "      <td>1404.80</td>\n",
       "      <td>1406.483377</td>\n",
       "      <td>418799</td>\n",
       "      <td>19208</td>\n",
       "      <td>5.890338e+08</td>\n",
       "      <td>238958.0</td>\n",
       "      <td>57.06</td>\n",
       "      <td>17.65</td>\n",
       "      <td>-7.05</td>\n",
       "      <td>1393.65</td>\n",
       "    </tr>\n",
       "    <tr>\n",
       "      <th>2021-05-31</th>\n",
       "      <td>1405.00</td>\n",
       "      <td>1405.00</td>\n",
       "      <td>1383.10</td>\n",
       "      <td>1393.65</td>\n",
       "      <td>1391.983909</td>\n",
       "      <td>1009210</td>\n",
       "      <td>12189</td>\n",
       "      <td>1.404804e+09</td>\n",
       "      <td>813022.0</td>\n",
       "      <td>80.56</td>\n",
       "      <td>21.90</td>\n",
       "      <td>-11.35</td>\n",
       "      <td>1387.40</td>\n",
       "    </tr>\n",
       "    <tr>\n",
       "      <th>2021-06-01</th>\n",
       "      <td>1400.00</td>\n",
       "      <td>1400.80</td>\n",
       "      <td>1378.60</td>\n",
       "      <td>1387.40</td>\n",
       "      <td>1385.129123</td>\n",
       "      <td>184134</td>\n",
       "      <td>7222</td>\n",
       "      <td>2.550494e+08</td>\n",
       "      <td>90643.0</td>\n",
       "      <td>49.23</td>\n",
       "      <td>22.20</td>\n",
       "      <td>-12.60</td>\n",
       "      <td>1379.75</td>\n",
       "    </tr>\n",
       "    <tr>\n",
       "      <th>2021-06-02</th>\n",
       "      <td>1378.65</td>\n",
       "      <td>1392.00</td>\n",
       "      <td>1362.20</td>\n",
       "      <td>1379.75</td>\n",
       "      <td>1366.888615</td>\n",
       "      <td>1906584</td>\n",
       "      <td>31599</td>\n",
       "      <td>2.606088e+09</td>\n",
       "      <td>1441943.0</td>\n",
       "      <td>75.63</td>\n",
       "      <td>29.80</td>\n",
       "      <td>1.10</td>\n",
       "      <td>1389.50</td>\n",
       "    </tr>\n",
       "    <tr>\n",
       "      <th>2021-06-03</th>\n",
       "      <td>1382.00</td>\n",
       "      <td>1398.65</td>\n",
       "      <td>1377.20</td>\n",
       "      <td>1389.50</td>\n",
       "      <td>1386.545266</td>\n",
       "      <td>243404</td>\n",
       "      <td>12798</td>\n",
       "      <td>3.374907e+08</td>\n",
       "      <td>103459.0</td>\n",
       "      <td>42.50</td>\n",
       "      <td>21.45</td>\n",
       "      <td>7.50</td>\n",
       "      <td>1385.20</td>\n",
       "    </tr>\n",
       "  </tbody>\n",
       "</table>\n",
       "</div>"
      ],
      "text/plain": [
       "            Open Price  High Price  Low Price  Close Price          WAP  \\\n",
       "Date                                                                      \n",
       "2021-05-28     1411.85     1414.00    1396.35      1404.80  1406.483377   \n",
       "2021-05-31     1405.00     1405.00    1383.10      1393.65  1391.983909   \n",
       "2021-06-01     1400.00     1400.80    1378.60      1387.40  1385.129123   \n",
       "2021-06-02     1378.65     1392.00    1362.20      1379.75  1366.888615   \n",
       "2021-06-03     1382.00     1398.65    1377.20      1389.50  1386.545266   \n",
       "\n",
       "            No.of Shares  No. of Trades  Total Turnover (Rs.)  \\\n",
       "Date                                                            \n",
       "2021-05-28        418799          19208          5.890338e+08   \n",
       "2021-05-31       1009210          12189          1.404804e+09   \n",
       "2021-06-01        184134           7222          2.550494e+08   \n",
       "2021-06-02       1906584          31599          2.606088e+09   \n",
       "2021-06-03        243404          12798          3.374907e+08   \n",
       "\n",
       "            Deliverable Quantity  % Deli. Qty to Traded Qty  Spread High-Low  \\\n",
       "Date                                                                           \n",
       "2021-05-28              238958.0                      57.06            17.65   \n",
       "2021-05-31              813022.0                      80.56            21.90   \n",
       "2021-06-01               90643.0                      49.23            22.20   \n",
       "2021-06-02             1441943.0                      75.63            29.80   \n",
       "2021-06-03              103459.0                      42.50            21.45   \n",
       "\n",
       "            Spread Close-Open   Target  \n",
       "Date                                    \n",
       "2021-05-28              -7.05  1393.65  \n",
       "2021-05-31             -11.35  1387.40  \n",
       "2021-06-01             -12.60  1379.75  \n",
       "2021-06-02               1.10  1389.50  \n",
       "2021-06-03               7.50  1385.20  "
      ]
     },
     "execution_count": 11,
     "metadata": {},
     "output_type": "execute_result"
    }
   ],
   "source": [
    "print(df_m.head())\n",
    "df_m.tail()"
   ]
  },
  {
   "cell_type": "code",
   "execution_count": 12,
   "metadata": {},
   "outputs": [],
   "source": [
    "x_train,x_test,y_train,y_test=train_test_split(df_m.drop(['Target'],axis='columns'),df_m['Target'],test_size=0.1)"
   ]
  },
  {
   "cell_type": "code",
   "execution_count": 13,
   "metadata": {},
   "outputs": [],
   "source": [
    "model=RandomForestRegressor(n_estimators=500)"
   ]
  },
  {
   "cell_type": "code",
   "execution_count": 14,
   "metadata": {},
   "outputs": [
    {
     "data": {
      "text/plain": [
       "RandomForestRegressor(n_estimators=500)"
      ]
     },
     "execution_count": 14,
     "metadata": {},
     "output_type": "execute_result"
    }
   ],
   "source": [
    "model.fit(x_train,y_train)"
   ]
  },
  {
   "cell_type": "code",
   "execution_count": 15,
   "metadata": {},
   "outputs": [
    {
     "data": {
      "text/plain": [
       "0.9973548419372131"
      ]
     },
     "execution_count": 15,
     "metadata": {},
     "output_type": "execute_result"
    }
   ],
   "source": [
    "model.score(x_test,y_test)"
   ]
  },
  {
   "cell_type": "code",
   "execution_count": 16,
   "metadata": {},
   "outputs": [],
   "source": [
    "#model.predict([[1369.40,1400.00,1397.35,1385.62,505592,22932,700560852,287305,56.83,38.00,27.95]])"
   ]
  },
  {
   "cell_type": "code",
   "execution_count": 17,
   "metadata": {},
   "outputs": [
    {
     "data": {
      "text/plain": [
       "array([1397.9528])"
      ]
     },
     "execution_count": 17,
     "metadata": {},
     "output_type": "execute_result"
    }
   ],
   "source": [
    "model.predict([[1369.40,1400.00,1362.00,1397.35,1385.62,505592,22932,700560852,287305,56.83,38.00,27.95]])"
   ]
  },
  {
   "cell_type": "code",
   "execution_count": 18,
   "metadata": {},
   "outputs": [
    {
     "data": {
      "text/plain": [
       "array([1379.2926])"
      ]
     },
     "execution_count": 18,
     "metadata": {},
     "output_type": "execute_result"
    }
   ],
   "source": [
    "model.predict([[1405.00,1405.00,1383.10,1393.65,1391.98,1009210,12189,1404804081,813022,80.56,21.90,-11.35]])"
   ]
  },
  {
   "cell_type": "code",
   "execution_count": 19,
   "metadata": {},
   "outputs": [
    {
     "data": {
      "text/plain": [
       "array([1384.5498])"
      ]
     },
     "execution_count": 19,
     "metadata": {},
     "output_type": "execute_result"
    }
   ],
   "source": [
    "model.predict([[1382.00,1398.65,1377.20,1389.50,1386.55,243404,12798,337490664,103459,42.50,21.45,7.50]])"
   ]
  },
  {
   "cell_type": "code",
   "execution_count": 20,
   "metadata": {},
   "outputs": [
    {
     "data": {
      "text/html": [
       "<div>\n",
       "<style scoped>\n",
       "    .dataframe tbody tr th:only-of-type {\n",
       "        vertical-align: middle;\n",
       "    }\n",
       "\n",
       "    .dataframe tbody tr th {\n",
       "        vertical-align: top;\n",
       "    }\n",
       "\n",
       "    .dataframe thead th {\n",
       "        text-align: right;\n",
       "    }\n",
       "</style>\n",
       "<table border=\"1\" class=\"dataframe\">\n",
       "  <thead>\n",
       "    <tr style=\"text-align: right;\">\n",
       "      <th></th>\n",
       "      <th>Open Price</th>\n",
       "      <th>High Price</th>\n",
       "      <th>Low Price</th>\n",
       "      <th>Close Price</th>\n",
       "      <th>WAP</th>\n",
       "      <th>No.of Shares</th>\n",
       "      <th>No. of Trades</th>\n",
       "      <th>Total Turnover (Rs.)</th>\n",
       "      <th>Deliverable Quantity</th>\n",
       "      <th>% Deli. Qty to Traded Qty</th>\n",
       "      <th>Spread High-Low</th>\n",
       "      <th>Spread Close-Open</th>\n",
       "      <th>Target</th>\n",
       "    </tr>\n",
       "    <tr>\n",
       "      <th>Date</th>\n",
       "      <th></th>\n",
       "      <th></th>\n",
       "      <th></th>\n",
       "      <th></th>\n",
       "      <th></th>\n",
       "      <th></th>\n",
       "      <th></th>\n",
       "      <th></th>\n",
       "      <th></th>\n",
       "      <th></th>\n",
       "      <th></th>\n",
       "      <th></th>\n",
       "      <th></th>\n",
       "    </tr>\n",
       "  </thead>\n",
       "  <tbody>\n",
       "    <tr>\n",
       "      <th>2021-05-24</th>\n",
       "      <td>1358.00</td>\n",
       "      <td>1362.15</td>\n",
       "      <td>1345.25</td>\n",
       "      <td>1348.15</td>\n",
       "      <td>1345.011192</td>\n",
       "      <td>1066338</td>\n",
       "      <td>13715</td>\n",
       "      <td>1.434237e+09</td>\n",
       "      <td>943397.0</td>\n",
       "      <td>88.47</td>\n",
       "      <td>16.90</td>\n",
       "      <td>-9.85</td>\n",
       "      <td>1361.90</td>\n",
       "    </tr>\n",
       "    <tr>\n",
       "      <th>2021-05-25</th>\n",
       "      <td>1353.00</td>\n",
       "      <td>1367.50</td>\n",
       "      <td>1353.00</td>\n",
       "      <td>1361.90</td>\n",
       "      <td>1362.200960</td>\n",
       "      <td>420760</td>\n",
       "      <td>18632</td>\n",
       "      <td>5.731597e+08</td>\n",
       "      <td>295633.0</td>\n",
       "      <td>70.26</td>\n",
       "      <td>14.50</td>\n",
       "      <td>8.90</td>\n",
       "      <td>1397.35</td>\n",
       "    </tr>\n",
       "    <tr>\n",
       "      <th>2021-05-26</th>\n",
       "      <td>1369.40</td>\n",
       "      <td>1400.00</td>\n",
       "      <td>1362.00</td>\n",
       "      <td>1397.35</td>\n",
       "      <td>1385.624875</td>\n",
       "      <td>505592</td>\n",
       "      <td>22932</td>\n",
       "      <td>7.005609e+08</td>\n",
       "      <td>287305.0</td>\n",
       "      <td>56.83</td>\n",
       "      <td>38.00</td>\n",
       "      <td>27.95</td>\n",
       "      <td>1404.65</td>\n",
       "    </tr>\n",
       "    <tr>\n",
       "      <th>2021-05-27</th>\n",
       "      <td>1404.80</td>\n",
       "      <td>1415.50</td>\n",
       "      <td>1391.60</td>\n",
       "      <td>1404.65</td>\n",
       "      <td>1395.273852</td>\n",
       "      <td>1353941</td>\n",
       "      <td>26575</td>\n",
       "      <td>1.889118e+09</td>\n",
       "      <td>1050064.0</td>\n",
       "      <td>77.56</td>\n",
       "      <td>23.90</td>\n",
       "      <td>-0.15</td>\n",
       "      <td>1404.80</td>\n",
       "    </tr>\n",
       "    <tr>\n",
       "      <th>2021-05-28</th>\n",
       "      <td>1411.85</td>\n",
       "      <td>1414.00</td>\n",
       "      <td>1396.35</td>\n",
       "      <td>1404.80</td>\n",
       "      <td>1406.483377</td>\n",
       "      <td>418799</td>\n",
       "      <td>19208</td>\n",
       "      <td>5.890338e+08</td>\n",
       "      <td>238958.0</td>\n",
       "      <td>57.06</td>\n",
       "      <td>17.65</td>\n",
       "      <td>-7.05</td>\n",
       "      <td>1393.65</td>\n",
       "    </tr>\n",
       "    <tr>\n",
       "      <th>2021-05-31</th>\n",
       "      <td>1405.00</td>\n",
       "      <td>1405.00</td>\n",
       "      <td>1383.10</td>\n",
       "      <td>1393.65</td>\n",
       "      <td>1391.983909</td>\n",
       "      <td>1009210</td>\n",
       "      <td>12189</td>\n",
       "      <td>1.404804e+09</td>\n",
       "      <td>813022.0</td>\n",
       "      <td>80.56</td>\n",
       "      <td>21.90</td>\n",
       "      <td>-11.35</td>\n",
       "      <td>1387.40</td>\n",
       "    </tr>\n",
       "    <tr>\n",
       "      <th>2021-06-01</th>\n",
       "      <td>1400.00</td>\n",
       "      <td>1400.80</td>\n",
       "      <td>1378.60</td>\n",
       "      <td>1387.40</td>\n",
       "      <td>1385.129123</td>\n",
       "      <td>184134</td>\n",
       "      <td>7222</td>\n",
       "      <td>2.550494e+08</td>\n",
       "      <td>90643.0</td>\n",
       "      <td>49.23</td>\n",
       "      <td>22.20</td>\n",
       "      <td>-12.60</td>\n",
       "      <td>1379.75</td>\n",
       "    </tr>\n",
       "    <tr>\n",
       "      <th>2021-06-02</th>\n",
       "      <td>1378.65</td>\n",
       "      <td>1392.00</td>\n",
       "      <td>1362.20</td>\n",
       "      <td>1379.75</td>\n",
       "      <td>1366.888615</td>\n",
       "      <td>1906584</td>\n",
       "      <td>31599</td>\n",
       "      <td>2.606088e+09</td>\n",
       "      <td>1441943.0</td>\n",
       "      <td>75.63</td>\n",
       "      <td>29.80</td>\n",
       "      <td>1.10</td>\n",
       "      <td>1389.50</td>\n",
       "    </tr>\n",
       "    <tr>\n",
       "      <th>2021-06-03</th>\n",
       "      <td>1382.00</td>\n",
       "      <td>1398.65</td>\n",
       "      <td>1377.20</td>\n",
       "      <td>1389.50</td>\n",
       "      <td>1386.545266</td>\n",
       "      <td>243404</td>\n",
       "      <td>12798</td>\n",
       "      <td>3.374907e+08</td>\n",
       "      <td>103459.0</td>\n",
       "      <td>42.50</td>\n",
       "      <td>21.45</td>\n",
       "      <td>7.50</td>\n",
       "      <td>1385.20</td>\n",
       "    </tr>\n",
       "    <tr>\n",
       "      <th>2021-06-04</th>\n",
       "      <td>1392.00</td>\n",
       "      <td>1396.50</td>\n",
       "      <td>1377.90</td>\n",
       "      <td>1385.20</td>\n",
       "      <td>1386.142576</td>\n",
       "      <td>108272</td>\n",
       "      <td>4901</td>\n",
       "      <td>1.500804e+08</td>\n",
       "      <td>40390.0</td>\n",
       "      <td>37.30</td>\n",
       "      <td>18.60</td>\n",
       "      <td>-6.80</td>\n",
       "      <td>NaN</td>\n",
       "    </tr>\n",
       "  </tbody>\n",
       "</table>\n",
       "</div>"
      ],
      "text/plain": [
       "            Open Price  High Price  Low Price  Close Price          WAP  \\\n",
       "Date                                                                      \n",
       "2021-05-24     1358.00     1362.15    1345.25      1348.15  1345.011192   \n",
       "2021-05-25     1353.00     1367.50    1353.00      1361.90  1362.200960   \n",
       "2021-05-26     1369.40     1400.00    1362.00      1397.35  1385.624875   \n",
       "2021-05-27     1404.80     1415.50    1391.60      1404.65  1395.273852   \n",
       "2021-05-28     1411.85     1414.00    1396.35      1404.80  1406.483377   \n",
       "2021-05-31     1405.00     1405.00    1383.10      1393.65  1391.983909   \n",
       "2021-06-01     1400.00     1400.80    1378.60      1387.40  1385.129123   \n",
       "2021-06-02     1378.65     1392.00    1362.20      1379.75  1366.888615   \n",
       "2021-06-03     1382.00     1398.65    1377.20      1389.50  1386.545266   \n",
       "2021-06-04     1392.00     1396.50    1377.90      1385.20  1386.142576   \n",
       "\n",
       "            No.of Shares  No. of Trades  Total Turnover (Rs.)  \\\n",
       "Date                                                            \n",
       "2021-05-24       1066338          13715          1.434237e+09   \n",
       "2021-05-25        420760          18632          5.731597e+08   \n",
       "2021-05-26        505592          22932          7.005609e+08   \n",
       "2021-05-27       1353941          26575          1.889118e+09   \n",
       "2021-05-28        418799          19208          5.890338e+08   \n",
       "2021-05-31       1009210          12189          1.404804e+09   \n",
       "2021-06-01        184134           7222          2.550494e+08   \n",
       "2021-06-02       1906584          31599          2.606088e+09   \n",
       "2021-06-03        243404          12798          3.374907e+08   \n",
       "2021-06-04        108272           4901          1.500804e+08   \n",
       "\n",
       "            Deliverable Quantity  % Deli. Qty to Traded Qty  Spread High-Low  \\\n",
       "Date                                                                           \n",
       "2021-05-24              943397.0                      88.47            16.90   \n",
       "2021-05-25              295633.0                      70.26            14.50   \n",
       "2021-05-26              287305.0                      56.83            38.00   \n",
       "2021-05-27             1050064.0                      77.56            23.90   \n",
       "2021-05-28              238958.0                      57.06            17.65   \n",
       "2021-05-31              813022.0                      80.56            21.90   \n",
       "2021-06-01               90643.0                      49.23            22.20   \n",
       "2021-06-02             1441943.0                      75.63            29.80   \n",
       "2021-06-03              103459.0                      42.50            21.45   \n",
       "2021-06-04               40390.0                      37.30            18.60   \n",
       "\n",
       "            Spread Close-Open   Target  \n",
       "Date                                    \n",
       "2021-05-24              -9.85  1361.90  \n",
       "2021-05-25               8.90  1397.35  \n",
       "2021-05-26              27.95  1404.65  \n",
       "2021-05-27              -0.15  1404.80  \n",
       "2021-05-28              -7.05  1393.65  \n",
       "2021-05-31             -11.35  1387.40  \n",
       "2021-06-01             -12.60  1379.75  \n",
       "2021-06-02               1.10  1389.50  \n",
       "2021-06-03               7.50  1385.20  \n",
       "2021-06-04              -6.80      NaN  "
      ]
     },
     "execution_count": 20,
     "metadata": {},
     "output_type": "execute_result"
    }
   ],
   "source": [
    "df.tail(10)"
   ]
  },
  {
   "cell_type": "code",
   "execution_count": null,
   "metadata": {},
   "outputs": [],
   "source": []
  },
  {
   "cell_type": "code",
   "execution_count": 21,
   "metadata": {},
   "outputs": [
    {
     "data": {
      "text/plain": [
       "array([1385.8685])"
      ]
     },
     "execution_count": 21,
     "metadata": {},
     "output_type": "execute_result"
    }
   ],
   "source": [
    "model.predict([[1378.65,1392.00,1362.2,1379.75,1366.888615,1906584,31599,2.606088e+09,1441943.0,75.63,29.80,1.10]])"
   ]
  },
  {
   "cell_type": "code",
   "execution_count": 22,
   "metadata": {},
   "outputs": [
    {
     "data": {
      "text/plain": [
       "array([1384.5498])"
      ]
     },
     "execution_count": 22,
     "metadata": {},
     "output_type": "execute_result"
    }
   ],
   "source": [
    "model.predict([[1382.00,1398.65,1377.20,1389.50,1386.545266,243404,12798,3.374907e+08,103459.0,42.50,21.45,7.50]])"
   ]
  },
  {
   "cell_type": "code",
   "execution_count": 23,
   "metadata": {},
   "outputs": [
    {
     "data": {
      "text/plain": [
       "array([1389.8565])"
      ]
     },
     "execution_count": 23,
     "metadata": {},
     "output_type": "execute_result"
    }
   ],
   "source": [
    "# To predict 5-6-21\n",
    "model.predict([[1392.00,1396.50,1377.9,1385.20,1386.142576,108272,4901,1.500804e+08,40390.0,37.30,18.60,-6.80]])"
   ]
  },
  {
   "cell_type": "code",
   "execution_count": 24,
   "metadata": {},
   "outputs": [
    {
     "data": {
      "text/plain": [
       "0.9973548419372131"
      ]
     },
     "execution_count": 24,
     "metadata": {},
     "output_type": "execute_result"
    }
   ],
   "source": [
    "model.score(x_test,y_test)"
   ]
  },
  {
   "cell_type": "code",
   "execution_count": 25,
   "metadata": {},
   "outputs": [],
   "source": [
    "pred_y=model.predict(x_test)"
   ]
  },
  {
   "cell_type": "code",
   "execution_count": 26,
   "metadata": {},
   "outputs": [
    {
     "data": {
      "text/plain": [
       "59.93469014203218"
      ]
     },
     "execution_count": 26,
     "metadata": {},
     "output_type": "execute_result"
    }
   ],
   "source": [
    "mean_squared_error(y_test,pred_y,squared=False)"
   ]
  },
  {
   "cell_type": "code",
   "execution_count": 27,
   "metadata": {},
   "outputs": [
    {
     "data": {
      "text/plain": [
       "3592.1670824214098"
      ]
     },
     "execution_count": 27,
     "metadata": {},
     "output_type": "execute_result"
    }
   ],
   "source": [
    "mean_squared_error(y_test,pred_y)"
   ]
  },
  {
   "cell_type": "code",
   "execution_count": null,
   "metadata": {},
   "outputs": [],
   "source": []
  }
 ],
 "metadata": {
  "kernelspec": {
   "display_name": "Python 3",
   "language": "python",
   "name": "python3"
  },
  "language_info": {
   "codemirror_mode": {
    "name": "ipython",
    "version": 3
   },
   "file_extension": ".py",
   "mimetype": "text/x-python",
   "name": "python",
   "nbconvert_exporter": "python",
   "pygments_lexer": "ipython3",
   "version": "3.8.3"
  }
 },
 "nbformat": 4,
 "nbformat_minor": 4
}
