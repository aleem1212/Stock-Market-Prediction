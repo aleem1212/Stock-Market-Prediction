{
 "cells": [
  {
   "cell_type": "code",
   "execution_count": 1,
   "metadata": {},
   "outputs": [],
   "source": [
    "import pandas as pd\n",
    "import numpy as np\n",
    "import matplotlib.pyplot as plt\n",
    "from sklearn.svm import SVR\n",
    "from sklearn.model_selection import train_test_split\n",
    "from sklearn.metrics import mean_squared_error\n",
    "\n",
    "%matplotlib inline\n"
   ]
  },
  {
   "cell_type": "code",
   "execution_count": 2,
   "metadata": {},
   "outputs": [
    {
     "data": {
      "text/html": [
       "<div>\n",
       "<style scoped>\n",
       "    .dataframe tbody tr th:only-of-type {\n",
       "        vertical-align: middle;\n",
       "    }\n",
       "\n",
       "    .dataframe tbody tr th {\n",
       "        vertical-align: top;\n",
       "    }\n",
       "\n",
       "    .dataframe thead th {\n",
       "        text-align: right;\n",
       "    }\n",
       "</style>\n",
       "<table border=\"1\" class=\"dataframe\">\n",
       "  <thead>\n",
       "    <tr style=\"text-align: right;\">\n",
       "      <th></th>\n",
       "      <th>Open Price</th>\n",
       "      <th>High Price</th>\n",
       "      <th>Low Price</th>\n",
       "      <th>Close Price</th>\n",
       "      <th>WAP</th>\n",
       "      <th>No.of Shares</th>\n",
       "      <th>No. of Trades</th>\n",
       "      <th>Total Turnover (Rs.)</th>\n",
       "      <th>Deliverable Quantity</th>\n",
       "      <th>% Deli. Qty to Traded Qty</th>\n",
       "      <th>Spread High-Low</th>\n",
       "      <th>Spread Close-Open</th>\n",
       "    </tr>\n",
       "    <tr>\n",
       "      <th>Date</th>\n",
       "      <th></th>\n",
       "      <th></th>\n",
       "      <th></th>\n",
       "      <th></th>\n",
       "      <th></th>\n",
       "      <th></th>\n",
       "      <th></th>\n",
       "      <th></th>\n",
       "      <th></th>\n",
       "      <th></th>\n",
       "      <th></th>\n",
       "      <th></th>\n",
       "    </tr>\n",
       "  </thead>\n",
       "  <tbody>\n",
       "    <tr>\n",
       "      <th>2021-06-04</th>\n",
       "      <td>1392.00</td>\n",
       "      <td>1396.50</td>\n",
       "      <td>1377.9</td>\n",
       "      <td>1385.20</td>\n",
       "      <td>1386.142576</td>\n",
       "      <td>108272</td>\n",
       "      <td>4901</td>\n",
       "      <td>1.500804e+08</td>\n",
       "      <td>40390.0</td>\n",
       "      <td>37.30</td>\n",
       "      <td>18.60</td>\n",
       "      <td>-6.80</td>\n",
       "    </tr>\n",
       "    <tr>\n",
       "      <th>2021-06-03</th>\n",
       "      <td>1382.00</td>\n",
       "      <td>1398.65</td>\n",
       "      <td>1377.2</td>\n",
       "      <td>1389.50</td>\n",
       "      <td>1386.545266</td>\n",
       "      <td>243404</td>\n",
       "      <td>12798</td>\n",
       "      <td>3.374907e+08</td>\n",
       "      <td>103459.0</td>\n",
       "      <td>42.50</td>\n",
       "      <td>21.45</td>\n",
       "      <td>7.50</td>\n",
       "    </tr>\n",
       "    <tr>\n",
       "      <th>2021-06-02</th>\n",
       "      <td>1378.65</td>\n",
       "      <td>1392.00</td>\n",
       "      <td>1362.2</td>\n",
       "      <td>1379.75</td>\n",
       "      <td>1366.888615</td>\n",
       "      <td>1906584</td>\n",
       "      <td>31599</td>\n",
       "      <td>2.606088e+09</td>\n",
       "      <td>1441943.0</td>\n",
       "      <td>75.63</td>\n",
       "      <td>29.80</td>\n",
       "      <td>1.10</td>\n",
       "    </tr>\n",
       "    <tr>\n",
       "      <th>2021-06-01</th>\n",
       "      <td>1400.00</td>\n",
       "      <td>1400.80</td>\n",
       "      <td>1378.6</td>\n",
       "      <td>1387.40</td>\n",
       "      <td>1385.129123</td>\n",
       "      <td>184134</td>\n",
       "      <td>7222</td>\n",
       "      <td>2.550494e+08</td>\n",
       "      <td>90643.0</td>\n",
       "      <td>49.23</td>\n",
       "      <td>22.20</td>\n",
       "      <td>-12.60</td>\n",
       "    </tr>\n",
       "    <tr>\n",
       "      <th>2021-05-31</th>\n",
       "      <td>1405.00</td>\n",
       "      <td>1405.00</td>\n",
       "      <td>1383.1</td>\n",
       "      <td>1393.65</td>\n",
       "      <td>1391.983909</td>\n",
       "      <td>1009210</td>\n",
       "      <td>12189</td>\n",
       "      <td>1.404804e+09</td>\n",
       "      <td>813022.0</td>\n",
       "      <td>80.56</td>\n",
       "      <td>21.90</td>\n",
       "      <td>-11.35</td>\n",
       "    </tr>\n",
       "  </tbody>\n",
       "</table>\n",
       "</div>"
      ],
      "text/plain": [
       "            Open Price  High Price  Low Price  Close Price          WAP  \\\n",
       "Date                                                                      \n",
       "2021-06-04     1392.00     1396.50     1377.9      1385.20  1386.142576   \n",
       "2021-06-03     1382.00     1398.65     1377.2      1389.50  1386.545266   \n",
       "2021-06-02     1378.65     1392.00     1362.2      1379.75  1366.888615   \n",
       "2021-06-01     1400.00     1400.80     1378.6      1387.40  1385.129123   \n",
       "2021-05-31     1405.00     1405.00     1383.1      1393.65  1391.983909   \n",
       "\n",
       "            No.of Shares  No. of Trades  Total Turnover (Rs.)  \\\n",
       "Date                                                            \n",
       "2021-06-04        108272           4901          1.500804e+08   \n",
       "2021-06-03        243404          12798          3.374907e+08   \n",
       "2021-06-02       1906584          31599          2.606088e+09   \n",
       "2021-06-01        184134           7222          2.550494e+08   \n",
       "2021-05-31       1009210          12189          1.404804e+09   \n",
       "\n",
       "            Deliverable Quantity  % Deli. Qty to Traded Qty  Spread High-Low  \\\n",
       "Date                                                                           \n",
       "2021-06-04               40390.0                      37.30            18.60   \n",
       "2021-06-03              103459.0                      42.50            21.45   \n",
       "2021-06-02             1441943.0                      75.63            29.80   \n",
       "2021-06-01               90643.0                      49.23            22.20   \n",
       "2021-05-31              813022.0                      80.56            21.90   \n",
       "\n",
       "            Spread Close-Open  \n",
       "Date                           \n",
       "2021-06-04              -6.80  \n",
       "2021-06-03               7.50  \n",
       "2021-06-02               1.10  \n",
       "2021-06-01             -12.60  \n",
       "2021-05-31             -11.35  "
      ]
     },
     "execution_count": 2,
     "metadata": {},
     "output_type": "execute_result"
    }
   ],
   "source": [
    "df =pd.read_csv('500209.csv')\n",
    "df.Date=pd.to_datetime(df.Date)\n",
    "df.set_index('Date',inplace=True)\n",
    "df.head()"
   ]
  },
  {
   "cell_type": "code",
   "execution_count": 3,
   "metadata": {},
   "outputs": [
    {
     "name": "stdout",
     "output_type": "stream",
     "text": [
      "<class 'pandas.core.frame.DataFrame'>\n",
      "DatetimeIndex: 5296 entries, 2021-06-04 to 2000-06-01\n",
      "Data columns (total 12 columns):\n",
      " #   Column                     Non-Null Count  Dtype  \n",
      "---  ------                     --------------  -----  \n",
      " 0   Open Price                 5296 non-null   float64\n",
      " 1   High Price                 5296 non-null   float64\n",
      " 2   Low Price                  5296 non-null   float64\n",
      " 3   Close Price                5296 non-null   float64\n",
      " 4   WAP                        5296 non-null   float64\n",
      " 5   No.of Shares               5296 non-null   int64  \n",
      " 6   No. of Trades              5296 non-null   int64  \n",
      " 7   Total Turnover (Rs.)       5296 non-null   float64\n",
      " 8   Deliverable Quantity       4792 non-null   float64\n",
      " 9   % Deli. Qty to Traded Qty  4792 non-null   float64\n",
      " 10  Spread High-Low            5296 non-null   float64\n",
      " 11  Spread Close-Open          5296 non-null   float64\n",
      "dtypes: float64(10), int64(2)\n",
      "memory usage: 537.9 KB\n"
     ]
    }
   ],
   "source": [
    "df.info()"
   ]
  },
  {
   "cell_type": "code",
   "execution_count": 4,
   "metadata": {},
   "outputs": [],
   "source": [
    "df=df.iloc[::-1]\n",
    "df['Target']=df['Close Price'].shift(periods=-1)"
   ]
  },
  {
   "cell_type": "code",
   "execution_count": 5,
   "metadata": {},
   "outputs": [
    {
     "data": {
      "text/html": [
       "<div>\n",
       "<style scoped>\n",
       "    .dataframe tbody tr th:only-of-type {\n",
       "        vertical-align: middle;\n",
       "    }\n",
       "\n",
       "    .dataframe tbody tr th {\n",
       "        vertical-align: top;\n",
       "    }\n",
       "\n",
       "    .dataframe thead th {\n",
       "        text-align: right;\n",
       "    }\n",
       "</style>\n",
       "<table border=\"1\" class=\"dataframe\">\n",
       "  <thead>\n",
       "    <tr style=\"text-align: right;\">\n",
       "      <th></th>\n",
       "      <th>Open Price</th>\n",
       "      <th>High Price</th>\n",
       "      <th>Low Price</th>\n",
       "      <th>Close Price</th>\n",
       "      <th>WAP</th>\n",
       "      <th>No.of Shares</th>\n",
       "      <th>No. of Trades</th>\n",
       "      <th>Total Turnover (Rs.)</th>\n",
       "      <th>Deliverable Quantity</th>\n",
       "      <th>% Deli. Qty to Traded Qty</th>\n",
       "      <th>Spread High-Low</th>\n",
       "      <th>Spread Close-Open</th>\n",
       "      <th>Target</th>\n",
       "    </tr>\n",
       "    <tr>\n",
       "      <th>Date</th>\n",
       "      <th></th>\n",
       "      <th></th>\n",
       "      <th></th>\n",
       "      <th></th>\n",
       "      <th></th>\n",
       "      <th></th>\n",
       "      <th></th>\n",
       "      <th></th>\n",
       "      <th></th>\n",
       "      <th></th>\n",
       "      <th></th>\n",
       "      <th></th>\n",
       "      <th></th>\n",
       "    </tr>\n",
       "  </thead>\n",
       "  <tbody>\n",
       "    <tr>\n",
       "      <th>2021-05-31</th>\n",
       "      <td>1405.00</td>\n",
       "      <td>1405.00</td>\n",
       "      <td>1383.1</td>\n",
       "      <td>1393.65</td>\n",
       "      <td>1391.983909</td>\n",
       "      <td>1009210</td>\n",
       "      <td>12189</td>\n",
       "      <td>1.404804e+09</td>\n",
       "      <td>813022.0</td>\n",
       "      <td>80.56</td>\n",
       "      <td>21.90</td>\n",
       "      <td>-11.35</td>\n",
       "      <td>1387.40</td>\n",
       "    </tr>\n",
       "    <tr>\n",
       "      <th>2021-06-01</th>\n",
       "      <td>1400.00</td>\n",
       "      <td>1400.80</td>\n",
       "      <td>1378.6</td>\n",
       "      <td>1387.40</td>\n",
       "      <td>1385.129123</td>\n",
       "      <td>184134</td>\n",
       "      <td>7222</td>\n",
       "      <td>2.550494e+08</td>\n",
       "      <td>90643.0</td>\n",
       "      <td>49.23</td>\n",
       "      <td>22.20</td>\n",
       "      <td>-12.60</td>\n",
       "      <td>1379.75</td>\n",
       "    </tr>\n",
       "    <tr>\n",
       "      <th>2021-06-02</th>\n",
       "      <td>1378.65</td>\n",
       "      <td>1392.00</td>\n",
       "      <td>1362.2</td>\n",
       "      <td>1379.75</td>\n",
       "      <td>1366.888615</td>\n",
       "      <td>1906584</td>\n",
       "      <td>31599</td>\n",
       "      <td>2.606088e+09</td>\n",
       "      <td>1441943.0</td>\n",
       "      <td>75.63</td>\n",
       "      <td>29.80</td>\n",
       "      <td>1.10</td>\n",
       "      <td>1389.50</td>\n",
       "    </tr>\n",
       "    <tr>\n",
       "      <th>2021-06-03</th>\n",
       "      <td>1382.00</td>\n",
       "      <td>1398.65</td>\n",
       "      <td>1377.2</td>\n",
       "      <td>1389.50</td>\n",
       "      <td>1386.545266</td>\n",
       "      <td>243404</td>\n",
       "      <td>12798</td>\n",
       "      <td>3.374907e+08</td>\n",
       "      <td>103459.0</td>\n",
       "      <td>42.50</td>\n",
       "      <td>21.45</td>\n",
       "      <td>7.50</td>\n",
       "      <td>1385.20</td>\n",
       "    </tr>\n",
       "    <tr>\n",
       "      <th>2021-06-04</th>\n",
       "      <td>1392.00</td>\n",
       "      <td>1396.50</td>\n",
       "      <td>1377.9</td>\n",
       "      <td>1385.20</td>\n",
       "      <td>1386.142576</td>\n",
       "      <td>108272</td>\n",
       "      <td>4901</td>\n",
       "      <td>1.500804e+08</td>\n",
       "      <td>40390.0</td>\n",
       "      <td>37.30</td>\n",
       "      <td>18.60</td>\n",
       "      <td>-6.80</td>\n",
       "      <td>NaN</td>\n",
       "    </tr>\n",
       "  </tbody>\n",
       "</table>\n",
       "</div>"
      ],
      "text/plain": [
       "            Open Price  High Price  Low Price  Close Price          WAP  \\\n",
       "Date                                                                      \n",
       "2021-05-31     1405.00     1405.00     1383.1      1393.65  1391.983909   \n",
       "2021-06-01     1400.00     1400.80     1378.6      1387.40  1385.129123   \n",
       "2021-06-02     1378.65     1392.00     1362.2      1379.75  1366.888615   \n",
       "2021-06-03     1382.00     1398.65     1377.2      1389.50  1386.545266   \n",
       "2021-06-04     1392.00     1396.50     1377.9      1385.20  1386.142576   \n",
       "\n",
       "            No.of Shares  No. of Trades  Total Turnover (Rs.)  \\\n",
       "Date                                                            \n",
       "2021-05-31       1009210          12189          1.404804e+09   \n",
       "2021-06-01        184134           7222          2.550494e+08   \n",
       "2021-06-02       1906584          31599          2.606088e+09   \n",
       "2021-06-03        243404          12798          3.374907e+08   \n",
       "2021-06-04        108272           4901          1.500804e+08   \n",
       "\n",
       "            Deliverable Quantity  % Deli. Qty to Traded Qty  Spread High-Low  \\\n",
       "Date                                                                           \n",
       "2021-05-31              813022.0                      80.56            21.90   \n",
       "2021-06-01               90643.0                      49.23            22.20   \n",
       "2021-06-02             1441943.0                      75.63            29.80   \n",
       "2021-06-03              103459.0                      42.50            21.45   \n",
       "2021-06-04               40390.0                      37.30            18.60   \n",
       "\n",
       "            Spread Close-Open   Target  \n",
       "Date                                    \n",
       "2021-05-31             -11.35  1387.40  \n",
       "2021-06-01             -12.60  1379.75  \n",
       "2021-06-02               1.10  1389.50  \n",
       "2021-06-03               7.50  1385.20  \n",
       "2021-06-04              -6.80      NaN  "
      ]
     },
     "execution_count": 5,
     "metadata": {},
     "output_type": "execute_result"
    }
   ],
   "source": [
    "df.tail()"
   ]
  },
  {
   "cell_type": "code",
   "execution_count": 6,
   "metadata": {},
   "outputs": [],
   "source": [
    "df_m=df\n",
    "df_m=df_m.dropna()"
   ]
  },
  {
   "cell_type": "code",
   "execution_count": 7,
   "metadata": {},
   "outputs": [],
   "source": [
    "x_train,x_test,y_train,y_test=train_test_split(df_m.drop(['Target'],axis='columns'),df_m['Target'],test_size=0.1)"
   ]
  },
  {
   "cell_type": "code",
   "execution_count": 8,
   "metadata": {},
   "outputs": [],
   "source": [
    "from sklearn.preprocessing import StandardScaler\n",
    "sc=StandardScaler()\n",
    "sc.fit(x_train)\n",
    "x_train=sc.transform(x_train)\n",
    "x_test=sc.transform(x_test)"
   ]
  },
  {
   "cell_type": "code",
   "execution_count": 9,
   "metadata": {},
   "outputs": [
    {
     "data": {
      "text/plain": [
       "SVR(kernel='linear')"
      ]
     },
     "execution_count": 9,
     "metadata": {},
     "output_type": "execute_result"
    }
   ],
   "source": [
    "model=SVR(kernel='linear')\n",
    "model.fit(x_train,y_train)"
   ]
  },
  {
   "cell_type": "code",
   "execution_count": 10,
   "metadata": {},
   "outputs": [
    {
     "data": {
      "text/plain": [
       "0.9976956798675586"
      ]
     },
     "execution_count": 10,
     "metadata": {},
     "output_type": "execute_result"
    }
   ],
   "source": [
    "model.score(x_test,y_test)"
   ]
  },
  {
   "cell_type": "code",
   "execution_count": 11,
   "metadata": {},
   "outputs": [],
   "source": [
    "pred=model.predict(x_test)"
   ]
  },
  {
   "cell_type": "code",
   "execution_count": 12,
   "metadata": {},
   "outputs": [
    {
     "data": {
      "text/plain": [
       "54.5798460903725"
      ]
     },
     "execution_count": 12,
     "metadata": {},
     "output_type": "execute_result"
    }
   ],
   "source": [
    "test_e=mean_squared_error(y_test,pred,squared=False)\n",
    "test_e"
   ]
  },
  {
   "cell_type": "code",
   "execution_count": 13,
   "metadata": {},
   "outputs": [],
   "source": [
    "#plt.plot(y_test,pred)"
   ]
  },
  {
   "cell_type": "code",
   "execution_count": 14,
   "metadata": {},
   "outputs": [],
   "source": [
    "t_pred=model.predict(x_train)"
   ]
  },
  {
   "cell_type": "code",
   "execution_count": 15,
   "metadata": {},
   "outputs": [
    {
     "data": {
      "text/plain": [
       "94.51736602739251"
      ]
     },
     "execution_count": 15,
     "metadata": {},
     "output_type": "execute_result"
    }
   ],
   "source": [
    "train_e=mean_squared_error(y_train,t_pred,squared=False)\n",
    "train_e"
   ]
  },
  {
   "cell_type": "code",
   "execution_count": null,
   "metadata": {},
   "outputs": [],
   "source": []
  },
  {
   "cell_type": "code",
   "execution_count": null,
   "metadata": {},
   "outputs": [],
   "source": []
  }
 ],
 "metadata": {
  "kernelspec": {
   "display_name": "Python 3",
   "language": "python",
   "name": "python3"
  },
  "language_info": {
   "codemirror_mode": {
    "name": "ipython",
    "version": 3
   },
   "file_extension": ".py",
   "mimetype": "text/x-python",
   "name": "python",
   "nbconvert_exporter": "python",
   "pygments_lexer": "ipython3",
   "version": "3.8.3"
  }
 },
 "nbformat": 4,
 "nbformat_minor": 4
}
