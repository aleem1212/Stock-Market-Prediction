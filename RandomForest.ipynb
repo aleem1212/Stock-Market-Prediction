{
 "cells": [
  {
   "cell_type": "markdown",
   "metadata": {},
   "source": [
    "# Importing Libraries"
   ]
  },
  {
   "cell_type": "code",
   "execution_count": 1,
   "metadata": {},
   "outputs": [],
   "source": [
    "import pandas as pd   #pandas for data processing and analysis\n",
    "import numpy as np   #numpy for numerical calculations\n",
    "import matplotlib.pyplot as plt  #visualising the data(graph)\n",
    "from sklearn.ensemble import RandomForestRegressor  #as random forest is ensemble method in ML we use ensemble module \n",
    "                                                    #from sklearn\n",
    "from sklearn.model_selection import train_test_split   #train_test_split to split the data into training and testing data\n",
    "#ensemble: ensemble methods use multiple learning algorithms to obtain better predictive performance than could be obtained \n",
    "#from any of the constituent learning algorithms alone.\n",
    "from sklearn.metrics import mean_squared_error,mean_absolute_error,accuracy_score  #these functions are used for evaluation of \n",
    "                                                                                #error functiion\n",
    "    #metrics:metrics module is used to measure classification performance of ML model\n",
    "\n",
    "%matplotlib inline\n"
   ]
  },
  {
   "cell_type": "markdown",
   "metadata": {},
   "source": [
    "# Loading the data"
   ]
  },
  {
   "cell_type": "code",
   "execution_count": 2,
   "metadata": {},
   "outputs": [
    {
     "name": "stdout",
     "output_type": "stream",
     "text": [
      "<class 'pandas.core.frame.DataFrame'>\n",
      "RangeIndex: 361 entries, 0 to 360\n",
      "Data columns (total 13 columns):\n",
      " #   Column                     Non-Null Count  Dtype  \n",
      "---  ------                     --------------  -----  \n",
      " 0   Date                       361 non-null    object \n",
      " 1   Open Price                 361 non-null    float64\n",
      " 2   High Price                 361 non-null    float64\n",
      " 3   Low Price                  361 non-null    float64\n",
      " 4   Close Price                361 non-null    float64\n",
      " 5   WAP                        361 non-null    float64\n",
      " 6   No.of Shares               361 non-null    int64  \n",
      " 7   No. of Trades              361 non-null    int64  \n",
      " 8   Total Turnover (Rs.)       361 non-null    float64\n",
      " 9   Deliverable Quantity       361 non-null    int64  \n",
      " 10  % Deli. Qty to Traded Qty  361 non-null    float64\n",
      " 11  Spread High-Low            361 non-null    float64\n",
      " 12  Spread Close-Open          361 non-null    float64\n",
      "dtypes: float64(9), int64(3), object(1)\n",
      "memory usage: 36.8+ KB\n"
     ]
    }
   ],
   "source": [
    "df =pd.read_csv('wipro1year.csv')  #to load the data\n",
    "df.info()   #to get the information about the dataset"
   ]
  },
  {
   "cell_type": "markdown",
   "metadata": {},
   "source": [
    "# Data Processing"
   ]
  },
  {
   "cell_type": "code",
   "execution_count": 3,
   "metadata": {},
   "outputs": [],
   "source": [
    "df.Date=pd.to_datetime(df.Date) #coverting the date column into datetime object of pandas"
   ]
  },
  {
   "cell_type": "code",
   "execution_count": 4,
   "metadata": {
    "scrolled": true
   },
   "outputs": [
    {
     "data": {
      "text/html": [
       "<div>\n",
       "<style scoped>\n",
       "    .dataframe tbody tr th:only-of-type {\n",
       "        vertical-align: middle;\n",
       "    }\n",
       "\n",
       "    .dataframe tbody tr th {\n",
       "        vertical-align: top;\n",
       "    }\n",
       "\n",
       "    .dataframe thead th {\n",
       "        text-align: right;\n",
       "    }\n",
       "</style>\n",
       "<table border=\"1\" class=\"dataframe\">\n",
       "  <thead>\n",
       "    <tr style=\"text-align: right;\">\n",
       "      <th></th>\n",
       "      <th>Open Price</th>\n",
       "      <th>High Price</th>\n",
       "      <th>Low Price</th>\n",
       "      <th>Close Price</th>\n",
       "      <th>WAP</th>\n",
       "      <th>No.of Shares</th>\n",
       "      <th>No. of Trades</th>\n",
       "      <th>Total Turnover (Rs.)</th>\n",
       "      <th>Deliverable Quantity</th>\n",
       "      <th>% Deli. Qty to Traded Qty</th>\n",
       "      <th>Spread High-Low</th>\n",
       "      <th>Spread Close-Open</th>\n",
       "    </tr>\n",
       "    <tr>\n",
       "      <th>Date</th>\n",
       "      <th></th>\n",
       "      <th></th>\n",
       "      <th></th>\n",
       "      <th></th>\n",
       "      <th></th>\n",
       "      <th></th>\n",
       "      <th></th>\n",
       "      <th></th>\n",
       "      <th></th>\n",
       "      <th></th>\n",
       "      <th></th>\n",
       "      <th></th>\n",
       "    </tr>\n",
       "  </thead>\n",
       "  <tbody>\n",
       "    <tr>\n",
       "      <th>2021-06-11</th>\n",
       "      <td>556.4</td>\n",
       "      <td>558.90</td>\n",
       "      <td>551.50</td>\n",
       "      <td>554.30</td>\n",
       "      <td>555.319138</td>\n",
       "      <td>377905</td>\n",
       "      <td>9344</td>\n",
       "      <td>209857879.0</td>\n",
       "      <td>136241</td>\n",
       "      <td>36.05</td>\n",
       "      <td>7.40</td>\n",
       "      <td>-2.10</td>\n",
       "    </tr>\n",
       "    <tr>\n",
       "      <th>2021-06-10</th>\n",
       "      <td>544.8</td>\n",
       "      <td>555.40</td>\n",
       "      <td>544.80</td>\n",
       "      <td>554.25</td>\n",
       "      <td>552.805445</td>\n",
       "      <td>178119</td>\n",
       "      <td>4272</td>\n",
       "      <td>98465153.0</td>\n",
       "      <td>46140</td>\n",
       "      <td>25.90</td>\n",
       "      <td>10.60</td>\n",
       "      <td>9.45</td>\n",
       "    </tr>\n",
       "    <tr>\n",
       "      <th>2021-06-09</th>\n",
       "      <td>554.7</td>\n",
       "      <td>554.70</td>\n",
       "      <td>542.35</td>\n",
       "      <td>544.05</td>\n",
       "      <td>547.315129</td>\n",
       "      <td>274478</td>\n",
       "      <td>5417</td>\n",
       "      <td>150225962.0</td>\n",
       "      <td>60480</td>\n",
       "      <td>22.03</td>\n",
       "      <td>12.35</td>\n",
       "      <td>-10.65</td>\n",
       "    </tr>\n",
       "    <tr>\n",
       "      <th>2021-06-08</th>\n",
       "      <td>550.8</td>\n",
       "      <td>555.50</td>\n",
       "      <td>549.50</td>\n",
       "      <td>550.50</td>\n",
       "      <td>552.366234</td>\n",
       "      <td>297493</td>\n",
       "      <td>9634</td>\n",
       "      <td>164325088.0</td>\n",
       "      <td>115998</td>\n",
       "      <td>38.99</td>\n",
       "      <td>6.00</td>\n",
       "      <td>-0.30</td>\n",
       "    </tr>\n",
       "    <tr>\n",
       "      <th>2021-06-07</th>\n",
       "      <td>544.0</td>\n",
       "      <td>551.15</td>\n",
       "      <td>543.00</td>\n",
       "      <td>548.30</td>\n",
       "      <td>548.127323</td>\n",
       "      <td>186188</td>\n",
       "      <td>4157</td>\n",
       "      <td>102054730.0</td>\n",
       "      <td>53232</td>\n",
       "      <td>28.59</td>\n",
       "      <td>8.15</td>\n",
       "      <td>4.30</td>\n",
       "    </tr>\n",
       "  </tbody>\n",
       "</table>\n",
       "</div>"
      ],
      "text/plain": [
       "            Open Price  High Price  Low Price  Close Price         WAP  \\\n",
       "Date                                                                     \n",
       "2021-06-11       556.4      558.90     551.50       554.30  555.319138   \n",
       "2021-06-10       544.8      555.40     544.80       554.25  552.805445   \n",
       "2021-06-09       554.7      554.70     542.35       544.05  547.315129   \n",
       "2021-06-08       550.8      555.50     549.50       550.50  552.366234   \n",
       "2021-06-07       544.0      551.15     543.00       548.30  548.127323   \n",
       "\n",
       "            No.of Shares  No. of Trades  Total Turnover (Rs.)  \\\n",
       "Date                                                            \n",
       "2021-06-11        377905           9344           209857879.0   \n",
       "2021-06-10        178119           4272            98465153.0   \n",
       "2021-06-09        274478           5417           150225962.0   \n",
       "2021-06-08        297493           9634           164325088.0   \n",
       "2021-06-07        186188           4157           102054730.0   \n",
       "\n",
       "            Deliverable Quantity  % Deli. Qty to Traded Qty  Spread High-Low  \\\n",
       "Date                                                                           \n",
       "2021-06-11                136241                      36.05             7.40   \n",
       "2021-06-10                 46140                      25.90            10.60   \n",
       "2021-06-09                 60480                      22.03            12.35   \n",
       "2021-06-08                115998                      38.99             6.00   \n",
       "2021-06-07                 53232                      28.59             8.15   \n",
       "\n",
       "            Spread Close-Open  \n",
       "Date                           \n",
       "2021-06-11              -2.10  \n",
       "2021-06-10               9.45  \n",
       "2021-06-09             -10.65  \n",
       "2021-06-08              -0.30  \n",
       "2021-06-07               4.30  "
      ]
     },
     "execution_count": 4,
     "metadata": {},
     "output_type": "execute_result"
    }
   ],
   "source": [
    "df.set_index('Date',inplace=True) #to set the index of date.Inplace isto rewrite the dataframe with index date\n",
    "df.head() #to get the above date values dataset"
   ]
  },
  {
   "cell_type": "code",
   "execution_count": 5,
   "metadata": {},
   "outputs": [
    {
     "data": {
      "text/plain": [
       "[<matplotlib.lines.Line2D at 0x20fe2b06f10>]"
      ]
     },
     "execution_count": 5,
     "metadata": {},
     "output_type": "execute_result"
    },
    {
     "data": {
      "image/png": "[encoded data removed]",
      "text/plain": [
       "<Figure size 432x288 with 1 Axes>"
      ]
     },
     "metadata": {
      "needs_background": "light"
     },
     "output_type": "display_data"
    }
   ],
   "source": [
    "df=df.iloc[::-1] #iloc:integer location\n",
    "df['Target']=df['Close Price'].shift(periods=-1) #our target is to find the close price of next day, \n",
    "plt.plot(df.index,df['Target']) #to plot the date vs price"
   ]
  },
  {
   "cell_type": "code",
   "execution_count": 30,
   "metadata": {},
   "outputs": [
    {
     "data": {
      "text/html": [
       "<div>\n",
       "<style scoped>\n",
       "    .dataframe tbody tr th:only-of-type {\n",
       "        vertical-align: middle;\n",
       "    }\n",
       "\n",
       "    .dataframe tbody tr th {\n",
       "        vertical-align: top;\n",
       "    }\n",
       "\n",
       "    .dataframe thead th {\n",
       "        text-align: right;\n",
       "    }\n",
       "</style>\n",
       "<table border=\"1\" class=\"dataframe\">\n",
       "  <thead>\n",
       "    <tr style=\"text-align: right;\">\n",
       "      <th></th>\n",
       "      <th>Open Price</th>\n",
       "      <th>High Price</th>\n",
       "      <th>Low Price</th>\n",
       "      <th>Close Price</th>\n",
       "      <th>WAP</th>\n",
       "      <th>No.of Shares</th>\n",
       "      <th>No. of Trades</th>\n",
       "      <th>Total Turnover (Rs.)</th>\n",
       "      <th>Deliverable Quantity</th>\n",
       "      <th>% Deli. Qty to Traded Qty</th>\n",
       "      <th>Spread High-Low</th>\n",
       "      <th>Spread Close-Open</th>\n",
       "      <th>Target</th>\n",
       "    </tr>\n",
       "    <tr>\n",
       "      <th>Date</th>\n",
       "      <th></th>\n",
       "      <th></th>\n",
       "      <th></th>\n",
       "      <th></th>\n",
       "      <th></th>\n",
       "      <th></th>\n",
       "      <th></th>\n",
       "      <th></th>\n",
       "      <th></th>\n",
       "      <th></th>\n",
       "      <th></th>\n",
       "      <th></th>\n",
       "      <th></th>\n",
       "    </tr>\n",
       "  </thead>\n",
       "  <tbody>\n",
       "    <tr>\n",
       "      <th>2021-06-07</th>\n",
       "      <td>544.0</td>\n",
       "      <td>551.15</td>\n",
       "      <td>543.00</td>\n",
       "      <td>548.30</td>\n",
       "      <td>548.127323</td>\n",
       "      <td>186188</td>\n",
       "      <td>4157</td>\n",
       "      <td>102054730.0</td>\n",
       "      <td>53232</td>\n",
       "      <td>28.59</td>\n",
       "      <td>8.15</td>\n",
       "      <td>4.30</td>\n",
       "      <td>550.50</td>\n",
       "    </tr>\n",
       "    <tr>\n",
       "      <th>2021-06-08</th>\n",
       "      <td>550.8</td>\n",
       "      <td>555.50</td>\n",
       "      <td>549.50</td>\n",
       "      <td>550.50</td>\n",
       "      <td>552.366234</td>\n",
       "      <td>297493</td>\n",
       "      <td>9634</td>\n",
       "      <td>164325088.0</td>\n",
       "      <td>115998</td>\n",
       "      <td>38.99</td>\n",
       "      <td>6.00</td>\n",
       "      <td>-0.30</td>\n",
       "      <td>544.05</td>\n",
       "    </tr>\n",
       "    <tr>\n",
       "      <th>2021-06-09</th>\n",
       "      <td>554.7</td>\n",
       "      <td>554.70</td>\n",
       "      <td>542.35</td>\n",
       "      <td>544.05</td>\n",
       "      <td>547.315129</td>\n",
       "      <td>274478</td>\n",
       "      <td>5417</td>\n",
       "      <td>150225962.0</td>\n",
       "      <td>60480</td>\n",
       "      <td>22.03</td>\n",
       "      <td>12.35</td>\n",
       "      <td>-10.65</td>\n",
       "      <td>554.25</td>\n",
       "    </tr>\n",
       "    <tr>\n",
       "      <th>2021-06-10</th>\n",
       "      <td>544.8</td>\n",
       "      <td>555.40</td>\n",
       "      <td>544.80</td>\n",
       "      <td>554.25</td>\n",
       "      <td>552.805445</td>\n",
       "      <td>178119</td>\n",
       "      <td>4272</td>\n",
       "      <td>98465153.0</td>\n",
       "      <td>46140</td>\n",
       "      <td>25.90</td>\n",
       "      <td>10.60</td>\n",
       "      <td>9.45</td>\n",
       "      <td>554.30</td>\n",
       "    </tr>\n",
       "    <tr>\n",
       "      <th>2021-06-11</th>\n",
       "      <td>556.4</td>\n",
       "      <td>558.90</td>\n",
       "      <td>551.50</td>\n",
       "      <td>554.30</td>\n",
       "      <td>555.319138</td>\n",
       "      <td>377905</td>\n",
       "      <td>9344</td>\n",
       "      <td>209857879.0</td>\n",
       "      <td>136241</td>\n",
       "      <td>36.05</td>\n",
       "      <td>7.40</td>\n",
       "      <td>-2.10</td>\n",
       "      <td>NaN</td>\n",
       "    </tr>\n",
       "  </tbody>\n",
       "</table>\n",
       "</div>"
      ],
      "text/plain": [
       "            Open Price  High Price  Low Price  Close Price         WAP  \\\n",
       "Date                                                                     \n",
       "2021-06-07       544.0      551.15     543.00       548.30  548.127323   \n",
       "2021-06-08       550.8      555.50     549.50       550.50  552.366234   \n",
       "2021-06-09       554.7      554.70     542.35       544.05  547.315129   \n",
       "2021-06-10       544.8      555.40     544.80       554.25  552.805445   \n",
       "2021-06-11       556.4      558.90     551.50       554.30  555.319138   \n",
       "\n",
       "            No.of Shares  No. of Trades  Total Turnover (Rs.)  \\\n",
       "Date                                                            \n",
       "2021-06-07        186188           4157           102054730.0   \n",
       "2021-06-08        297493           9634           164325088.0   \n",
       "2021-06-09        274478           5417           150225962.0   \n",
       "2021-06-10        178119           4272            98465153.0   \n",
       "2021-06-11        377905           9344           209857879.0   \n",
       "\n",
       "            Deliverable Quantity  % Deli. Qty to Traded Qty  Spread High-Low  \\\n",
       "Date                                                                           \n",
       "2021-06-07                 53232                      28.59             8.15   \n",
       "2021-06-08                115998                      38.99             6.00   \n",
       "2021-06-09                 60480                      22.03            12.35   \n",
       "2021-06-10                 46140                      25.90            10.60   \n",
       "2021-06-11                136241                      36.05             7.40   \n",
       "\n",
       "            Spread Close-Open  Target  \n",
       "Date                                   \n",
       "2021-06-07               4.30  550.50  \n",
       "2021-06-08              -0.30  544.05  \n",
       "2021-06-09             -10.65  554.25  \n",
       "2021-06-10               9.45  554.30  \n",
       "2021-06-11              -2.10     NaN  "
      ]
     },
     "execution_count": 30,
     "metadata": {},
     "output_type": "execute_result"
    }
   ],
   "source": [
    "df.tail()"
   ]
  },
  {
   "cell_type": "code",
   "execution_count": 28,
   "metadata": {},
   "outputs": [
    {
     "data": {
      "text/plain": [
       "(361, 13)"
      ]
     },
     "execution_count": 28,
     "metadata": {},
     "output_type": "execute_result"
    }
   ],
   "source": [
    "df.shape #rows and columns"
   ]
  },
  {
   "cell_type": "code",
   "execution_count": 29,
   "metadata": {},
   "outputs": [],
   "source": [
    "df_m=df"
   ]
  },
  {
   "cell_type": "markdown",
   "metadata": {},
   "source": [
    "# Cleaning data"
   ]
  },
  {
   "cell_type": "code",
   "execution_count": 31,
   "metadata": {},
   "outputs": [],
   "source": [
    "df_m=df_m.dropna() #to drop all rows with NaN(not available target values)"
   ]
  },
  {
   "cell_type": "code",
   "execution_count": 32,
   "metadata": {},
   "outputs": [
    {
     "data": {
      "text/plain": [
       "(360, 13)"
      ]
     },
     "execution_count": 32,
     "metadata": {},
     "output_type": "execute_result"
    }
   ],
   "source": [
    "df_m.shape"
   ]
  },
  {
   "cell_type": "code",
   "execution_count": 10,
   "metadata": {},
   "outputs": [
    {
     "name": "stdout",
     "output_type": "stream",
     "text": [
      "            Open Price  High Price  Low Price  Close Price         WAP  \\\n",
      "Date                                                                     \n",
      "2020-01-01      247.00      248.55     245.95       247.75  247.871771   \n",
      "2020-01-02      248.70      249.90     246.05       248.25  248.469554   \n",
      "2020-01-03      249.00      252.70     247.50       250.80  251.084194   \n",
      "2020-01-06      251.85      254.40     250.15       252.15  252.232523   \n",
      "2020-01-07      253.40      256.20     250.30       255.20  253.741838   \n",
      "\n",
      "            No.of Shares  No. of Trades  Total Turnover (Rs.)  \\\n",
      "Date                                                            \n",
      "2020-01-01         85589            788            21215097.0   \n",
      "2020-01-02         48265            856            11992383.0   \n",
      "2020-01-03        173171           2632            43480501.0   \n",
      "2020-01-06        171071           2169            43149670.0   \n",
      "2020-01-07        166531           1865            42255882.0   \n",
      "\n",
      "            Deliverable Quantity  % Deli. Qty to Traded Qty  Spread High-Low  \\\n",
      "Date                                                                           \n",
      "2020-01-01                 37654                      43.99             2.60   \n",
      "2020-01-02                 13350                      27.66             3.85   \n",
      "2020-01-03                 40485                      23.38             5.20   \n",
      "2020-01-06                 55650                      32.53             4.25   \n",
      "2020-01-07                 60761                      36.49             5.90   \n",
      "\n",
      "            Spread Close-Open  Target  \n",
      "Date                                   \n",
      "2020-01-01               0.75  248.25  \n",
      "2020-01-02              -0.45  250.80  \n",
      "2020-01-03               1.80  252.15  \n",
      "2020-01-06               0.30  255.20  \n",
      "2020-01-07               1.80  254.70  \n"
     ]
    },
    {
     "data": {
      "text/html": [
       "<div>\n",
       "<style scoped>\n",
       "    .dataframe tbody tr th:only-of-type {\n",
       "        vertical-align: middle;\n",
       "    }\n",
       "\n",
       "    .dataframe tbody tr th {\n",
       "        vertical-align: top;\n",
       "    }\n",
       "\n",
       "    .dataframe thead th {\n",
       "        text-align: right;\n",
       "    }\n",
       "</style>\n",
       "<table border=\"1\" class=\"dataframe\">\n",
       "  <thead>\n",
       "    <tr style=\"text-align: right;\">\n",
       "      <th></th>\n",
       "      <th>Open Price</th>\n",
       "      <th>High Price</th>\n",
       "      <th>Low Price</th>\n",
       "      <th>Close Price</th>\n",
       "      <th>WAP</th>\n",
       "      <th>No.of Shares</th>\n",
       "      <th>No. of Trades</th>\n",
       "      <th>Total Turnover (Rs.)</th>\n",
       "      <th>Deliverable Quantity</th>\n",
       "      <th>% Deli. Qty to Traded Qty</th>\n",
       "      <th>Spread High-Low</th>\n",
       "      <th>Spread Close-Open</th>\n",
       "      <th>Target</th>\n",
       "    </tr>\n",
       "    <tr>\n",
       "      <th>Date</th>\n",
       "      <th></th>\n",
       "      <th></th>\n",
       "      <th></th>\n",
       "      <th></th>\n",
       "      <th></th>\n",
       "      <th></th>\n",
       "      <th></th>\n",
       "      <th></th>\n",
       "      <th></th>\n",
       "      <th></th>\n",
       "      <th></th>\n",
       "      <th></th>\n",
       "      <th></th>\n",
       "    </tr>\n",
       "  </thead>\n",
       "  <tbody>\n",
       "    <tr>\n",
       "      <th>2021-06-04</th>\n",
       "      <td>544.4</td>\n",
       "      <td>545.70</td>\n",
       "      <td>540.45</td>\n",
       "      <td>541.10</td>\n",
       "      <td>542.725721</td>\n",
       "      <td>224064</td>\n",
       "      <td>4711</td>\n",
       "      <td>121605296.0</td>\n",
       "      <td>60601</td>\n",
       "      <td>27.05</td>\n",
       "      <td>5.25</td>\n",
       "      <td>-3.30</td>\n",
       "      <td>548.30</td>\n",
       "    </tr>\n",
       "    <tr>\n",
       "      <th>2021-06-07</th>\n",
       "      <td>544.0</td>\n",
       "      <td>551.15</td>\n",
       "      <td>543.00</td>\n",
       "      <td>548.30</td>\n",
       "      <td>548.127323</td>\n",
       "      <td>186188</td>\n",
       "      <td>4157</td>\n",
       "      <td>102054730.0</td>\n",
       "      <td>53232</td>\n",
       "      <td>28.59</td>\n",
       "      <td>8.15</td>\n",
       "      <td>4.30</td>\n",
       "      <td>550.50</td>\n",
       "    </tr>\n",
       "    <tr>\n",
       "      <th>2021-06-08</th>\n",
       "      <td>550.8</td>\n",
       "      <td>555.50</td>\n",
       "      <td>549.50</td>\n",
       "      <td>550.50</td>\n",
       "      <td>552.366234</td>\n",
       "      <td>297493</td>\n",
       "      <td>9634</td>\n",
       "      <td>164325088.0</td>\n",
       "      <td>115998</td>\n",
       "      <td>38.99</td>\n",
       "      <td>6.00</td>\n",
       "      <td>-0.30</td>\n",
       "      <td>544.05</td>\n",
       "    </tr>\n",
       "    <tr>\n",
       "      <th>2021-06-09</th>\n",
       "      <td>554.7</td>\n",
       "      <td>554.70</td>\n",
       "      <td>542.35</td>\n",
       "      <td>544.05</td>\n",
       "      <td>547.315129</td>\n",
       "      <td>274478</td>\n",
       "      <td>5417</td>\n",
       "      <td>150225962.0</td>\n",
       "      <td>60480</td>\n",
       "      <td>22.03</td>\n",
       "      <td>12.35</td>\n",
       "      <td>-10.65</td>\n",
       "      <td>554.25</td>\n",
       "    </tr>\n",
       "    <tr>\n",
       "      <th>2021-06-10</th>\n",
       "      <td>544.8</td>\n",
       "      <td>555.40</td>\n",
       "      <td>544.80</td>\n",
       "      <td>554.25</td>\n",
       "      <td>552.805445</td>\n",
       "      <td>178119</td>\n",
       "      <td>4272</td>\n",
       "      <td>98465153.0</td>\n",
       "      <td>46140</td>\n",
       "      <td>25.90</td>\n",
       "      <td>10.60</td>\n",
       "      <td>9.45</td>\n",
       "      <td>554.30</td>\n",
       "    </tr>\n",
       "  </tbody>\n",
       "</table>\n",
       "</div>"
      ],
      "text/plain": [
       "            Open Price  High Price  Low Price  Close Price         WAP  \\\n",
       "Date                                                                     \n",
       "2021-06-04       544.4      545.70     540.45       541.10  542.725721   \n",
       "2021-06-07       544.0      551.15     543.00       548.30  548.127323   \n",
       "2021-06-08       550.8      555.50     549.50       550.50  552.366234   \n",
       "2021-06-09       554.7      554.70     542.35       544.05  547.315129   \n",
       "2021-06-10       544.8      555.40     544.80       554.25  552.805445   \n",
       "\n",
       "            No.of Shares  No. of Trades  Total Turnover (Rs.)  \\\n",
       "Date                                                            \n",
       "2021-06-04        224064           4711           121605296.0   \n",
       "2021-06-07        186188           4157           102054730.0   \n",
       "2021-06-08        297493           9634           164325088.0   \n",
       "2021-06-09        274478           5417           150225962.0   \n",
       "2021-06-10        178119           4272            98465153.0   \n",
       "\n",
       "            Deliverable Quantity  % Deli. Qty to Traded Qty  Spread High-Low  \\\n",
       "Date                                                                           \n",
       "2021-06-04                 60601                      27.05             5.25   \n",
       "2021-06-07                 53232                      28.59             8.15   \n",
       "2021-06-08                115998                      38.99             6.00   \n",
       "2021-06-09                 60480                      22.03            12.35   \n",
       "2021-06-10                 46140                      25.90            10.60   \n",
       "\n",
       "            Spread Close-Open  Target  \n",
       "Date                                   \n",
       "2021-06-04              -3.30  548.30  \n",
       "2021-06-07               4.30  550.50  \n",
       "2021-06-08              -0.30  544.05  \n",
       "2021-06-09             -10.65  554.25  \n",
       "2021-06-10               9.45  554.30  "
      ]
     },
     "execution_count": 10,
     "metadata": {},
     "output_type": "execute_result"
    }
   ],
   "source": [
    "print(df_m.head())\n",
    "df_m.tail()"
   ]
  },
  {
   "cell_type": "markdown",
   "metadata": {},
   "source": [
    "# Splitting the data"
   ]
  },
  {
   "cell_type": "code",
   "execution_count": 11,
   "metadata": {},
   "outputs": [],
   "source": [
    "x_train,x_test,y_train,y_test=train_test_split(df_m.drop(['Target'],axis='columns'),df_m['Target'],test_size=0.3)  \n",
    "#xtrain means to split data into training and testing data\n",
    "#ytrain is target values of xtrain and ytest is target values of xtest\n",
    "#sending the target values separately"
   ]
  },
  {
   "cell_type": "code",
   "execution_count": 12,
   "metadata": {},
   "outputs": [],
   "source": [
    "model=RandomForestRegressor(n_estimators=500) #initializing the model with 500 decision trees  "
   ]
  },
  {
   "cell_type": "code",
   "execution_count": 13,
   "metadata": {},
   "outputs": [
    {
     "data": {
      "text/plain": [
       "RandomForestRegressor(n_estimators=500)"
      ]
     },
     "execution_count": 13,
     "metadata": {},
     "output_type": "execute_result"
    }
   ],
   "source": [
    "model.fit(x_train,y_train) #splitting the model with training data"
   ]
  },
  {
   "cell_type": "code",
   "execution_count": 14,
   "metadata": {},
   "outputs": [
    {
     "data": {
      "text/plain": [
       "0.9944713894700304"
      ]
     },
     "execution_count": 14,
     "metadata": {},
     "output_type": "execute_result"
    }
   ],
   "source": [
    "model.score(x_test,y_test) #finding the accuracy of the model"
   ]
  },
  {
   "cell_type": "code",
   "execution_count": null,
   "metadata": {},
   "outputs": [],
   "source": []
  },
  {
   "cell_type": "code",
   "execution_count": null,
   "metadata": {},
   "outputs": [],
   "source": []
  },
  {
   "cell_type": "code",
   "execution_count": null,
   "metadata": {},
   "outputs": [],
   "source": []
  },
  {
   "cell_type": "code",
   "execution_count": null,
   "metadata": {},
   "outputs": [],
   "source": []
  },
  {
   "cell_type": "code",
   "execution_count": 15,
   "metadata": {},
   "outputs": [
    {
     "data": {
      "text/html": [
       "<div>\n",
       "<style scoped>\n",
       "    .dataframe tbody tr th:only-of-type {\n",
       "        vertical-align: middle;\n",
       "    }\n",
       "\n",
       "    .dataframe tbody tr th {\n",
       "        vertical-align: top;\n",
       "    }\n",
       "\n",
       "    .dataframe thead th {\n",
       "        text-align: right;\n",
       "    }\n",
       "</style>\n",
       "<table border=\"1\" class=\"dataframe\">\n",
       "  <thead>\n",
       "    <tr style=\"text-align: right;\">\n",
       "      <th></th>\n",
       "      <th>Open Price</th>\n",
       "      <th>High Price</th>\n",
       "      <th>Low Price</th>\n",
       "      <th>Close Price</th>\n",
       "      <th>WAP</th>\n",
       "      <th>No.of Shares</th>\n",
       "      <th>No. of Trades</th>\n",
       "      <th>Total Turnover (Rs.)</th>\n",
       "      <th>Deliverable Quantity</th>\n",
       "      <th>% Deli. Qty to Traded Qty</th>\n",
       "      <th>Spread High-Low</th>\n",
       "      <th>Spread Close-Open</th>\n",
       "      <th>Target</th>\n",
       "    </tr>\n",
       "    <tr>\n",
       "      <th>Date</th>\n",
       "      <th></th>\n",
       "      <th></th>\n",
       "      <th></th>\n",
       "      <th></th>\n",
       "      <th></th>\n",
       "      <th></th>\n",
       "      <th></th>\n",
       "      <th></th>\n",
       "      <th></th>\n",
       "      <th></th>\n",
       "      <th></th>\n",
       "      <th></th>\n",
       "      <th></th>\n",
       "    </tr>\n",
       "  </thead>\n",
       "  <tbody>\n",
       "    <tr>\n",
       "      <th>2021-05-31</th>\n",
       "      <td>539.45</td>\n",
       "      <td>540.35</td>\n",
       "      <td>531.20</td>\n",
       "      <td>538.90</td>\n",
       "      <td>537.118057</td>\n",
       "      <td>193982</td>\n",
       "      <td>3984</td>\n",
       "      <td>104191235.0</td>\n",
       "      <td>40528</td>\n",
       "      <td>20.89</td>\n",
       "      <td>9.15</td>\n",
       "      <td>-0.55</td>\n",
       "      <td>542.70</td>\n",
       "    </tr>\n",
       "    <tr>\n",
       "      <th>2021-06-01</th>\n",
       "      <td>539.90</td>\n",
       "      <td>547.00</td>\n",
       "      <td>539.80</td>\n",
       "      <td>542.70</td>\n",
       "      <td>543.086429</td>\n",
       "      <td>200765</td>\n",
       "      <td>4293</td>\n",
       "      <td>109032747.0</td>\n",
       "      <td>34577</td>\n",
       "      <td>17.22</td>\n",
       "      <td>7.20</td>\n",
       "      <td>2.80</td>\n",
       "      <td>543.05</td>\n",
       "    </tr>\n",
       "    <tr>\n",
       "      <th>2021-06-02</th>\n",
       "      <td>542.70</td>\n",
       "      <td>544.95</td>\n",
       "      <td>533.05</td>\n",
       "      <td>543.05</td>\n",
       "      <td>538.222906</td>\n",
       "      <td>177389</td>\n",
       "      <td>4185</td>\n",
       "      <td>95474823.0</td>\n",
       "      <td>35714</td>\n",
       "      <td>20.13</td>\n",
       "      <td>11.90</td>\n",
       "      <td>0.35</td>\n",
       "      <td>539.00</td>\n",
       "    </tr>\n",
       "    <tr>\n",
       "      <th>2021-06-03</th>\n",
       "      <td>546.00</td>\n",
       "      <td>550.00</td>\n",
       "      <td>538.35</td>\n",
       "      <td>539.00</td>\n",
       "      <td>542.258308</td>\n",
       "      <td>284277</td>\n",
       "      <td>8273</td>\n",
       "      <td>154151565.0</td>\n",
       "      <td>89737</td>\n",
       "      <td>31.57</td>\n",
       "      <td>11.65</td>\n",
       "      <td>-7.00</td>\n",
       "      <td>541.10</td>\n",
       "    </tr>\n",
       "    <tr>\n",
       "      <th>2021-06-04</th>\n",
       "      <td>544.40</td>\n",
       "      <td>545.70</td>\n",
       "      <td>540.45</td>\n",
       "      <td>541.10</td>\n",
       "      <td>542.725721</td>\n",
       "      <td>224064</td>\n",
       "      <td>4711</td>\n",
       "      <td>121605296.0</td>\n",
       "      <td>60601</td>\n",
       "      <td>27.05</td>\n",
       "      <td>5.25</td>\n",
       "      <td>-3.30</td>\n",
       "      <td>548.30</td>\n",
       "    </tr>\n",
       "    <tr>\n",
       "      <th>2021-06-07</th>\n",
       "      <td>544.00</td>\n",
       "      <td>551.15</td>\n",
       "      <td>543.00</td>\n",
       "      <td>548.30</td>\n",
       "      <td>548.127323</td>\n",
       "      <td>186188</td>\n",
       "      <td>4157</td>\n",
       "      <td>102054730.0</td>\n",
       "      <td>53232</td>\n",
       "      <td>28.59</td>\n",
       "      <td>8.15</td>\n",
       "      <td>4.30</td>\n",
       "      <td>550.50</td>\n",
       "    </tr>\n",
       "    <tr>\n",
       "      <th>2021-06-08</th>\n",
       "      <td>550.80</td>\n",
       "      <td>555.50</td>\n",
       "      <td>549.50</td>\n",
       "      <td>550.50</td>\n",
       "      <td>552.366234</td>\n",
       "      <td>297493</td>\n",
       "      <td>9634</td>\n",
       "      <td>164325088.0</td>\n",
       "      <td>115998</td>\n",
       "      <td>38.99</td>\n",
       "      <td>6.00</td>\n",
       "      <td>-0.30</td>\n",
       "      <td>544.05</td>\n",
       "    </tr>\n",
       "    <tr>\n",
       "      <th>2021-06-09</th>\n",
       "      <td>554.70</td>\n",
       "      <td>554.70</td>\n",
       "      <td>542.35</td>\n",
       "      <td>544.05</td>\n",
       "      <td>547.315129</td>\n",
       "      <td>274478</td>\n",
       "      <td>5417</td>\n",
       "      <td>150225962.0</td>\n",
       "      <td>60480</td>\n",
       "      <td>22.03</td>\n",
       "      <td>12.35</td>\n",
       "      <td>-10.65</td>\n",
       "      <td>554.25</td>\n",
       "    </tr>\n",
       "    <tr>\n",
       "      <th>2021-06-10</th>\n",
       "      <td>544.80</td>\n",
       "      <td>555.40</td>\n",
       "      <td>544.80</td>\n",
       "      <td>554.25</td>\n",
       "      <td>552.805445</td>\n",
       "      <td>178119</td>\n",
       "      <td>4272</td>\n",
       "      <td>98465153.0</td>\n",
       "      <td>46140</td>\n",
       "      <td>25.90</td>\n",
       "      <td>10.60</td>\n",
       "      <td>9.45</td>\n",
       "      <td>554.30</td>\n",
       "    </tr>\n",
       "    <tr>\n",
       "      <th>2021-06-11</th>\n",
       "      <td>556.40</td>\n",
       "      <td>558.90</td>\n",
       "      <td>551.50</td>\n",
       "      <td>554.30</td>\n",
       "      <td>555.319138</td>\n",
       "      <td>377905</td>\n",
       "      <td>9344</td>\n",
       "      <td>209857879.0</td>\n",
       "      <td>136241</td>\n",
       "      <td>36.05</td>\n",
       "      <td>7.40</td>\n",
       "      <td>-2.10</td>\n",
       "      <td>NaN</td>\n",
       "    </tr>\n",
       "  </tbody>\n",
       "</table>\n",
       "</div>"
      ],
      "text/plain": [
       "            Open Price  High Price  Low Price  Close Price         WAP  \\\n",
       "Date                                                                     \n",
       "2021-05-31      539.45      540.35     531.20       538.90  537.118057   \n",
       "2021-06-01      539.90      547.00     539.80       542.70  543.086429   \n",
       "2021-06-02      542.70      544.95     533.05       543.05  538.222906   \n",
       "2021-06-03      546.00      550.00     538.35       539.00  542.258308   \n",
       "2021-06-04      544.40      545.70     540.45       541.10  542.725721   \n",
       "2021-06-07      544.00      551.15     543.00       548.30  548.127323   \n",
       "2021-06-08      550.80      555.50     549.50       550.50  552.366234   \n",
       "2021-06-09      554.70      554.70     542.35       544.05  547.315129   \n",
       "2021-06-10      544.80      555.40     544.80       554.25  552.805445   \n",
       "2021-06-11      556.40      558.90     551.50       554.30  555.319138   \n",
       "\n",
       "            No.of Shares  No. of Trades  Total Turnover (Rs.)  \\\n",
       "Date                                                            \n",
       "2021-05-31        193982           3984           104191235.0   \n",
       "2021-06-01        200765           4293           109032747.0   \n",
       "2021-06-02        177389           4185            95474823.0   \n",
       "2021-06-03        284277           8273           154151565.0   \n",
       "2021-06-04        224064           4711           121605296.0   \n",
       "2021-06-07        186188           4157           102054730.0   \n",
       "2021-06-08        297493           9634           164325088.0   \n",
       "2021-06-09        274478           5417           150225962.0   \n",
       "2021-06-10        178119           4272            98465153.0   \n",
       "2021-06-11        377905           9344           209857879.0   \n",
       "\n",
       "            Deliverable Quantity  % Deli. Qty to Traded Qty  Spread High-Low  \\\n",
       "Date                                                                           \n",
       "2021-05-31                 40528                      20.89             9.15   \n",
       "2021-06-01                 34577                      17.22             7.20   \n",
       "2021-06-02                 35714                      20.13            11.90   \n",
       "2021-06-03                 89737                      31.57            11.65   \n",
       "2021-06-04                 60601                      27.05             5.25   \n",
       "2021-06-07                 53232                      28.59             8.15   \n",
       "2021-06-08                115998                      38.99             6.00   \n",
       "2021-06-09                 60480                      22.03            12.35   \n",
       "2021-06-10                 46140                      25.90            10.60   \n",
       "2021-06-11                136241                      36.05             7.40   \n",
       "\n",
       "            Spread Close-Open  Target  \n",
       "Date                                   \n",
       "2021-05-31              -0.55  542.70  \n",
       "2021-06-01               2.80  543.05  \n",
       "2021-06-02               0.35  539.00  \n",
       "2021-06-03              -7.00  541.10  \n",
       "2021-06-04              -3.30  548.30  \n",
       "2021-06-07               4.30  550.50  \n",
       "2021-06-08              -0.30  544.05  \n",
       "2021-06-09             -10.65  554.25  \n",
       "2021-06-10               9.45  554.30  \n",
       "2021-06-11              -2.10     NaN  "
      ]
     },
     "execution_count": 15,
     "metadata": {},
     "output_type": "execute_result"
    }
   ],
   "source": [
    "df.tail(10)"
   ]
  },
  {
   "cell_type": "code",
   "execution_count": null,
   "metadata": {},
   "outputs": [],
   "source": []
  },
  {
   "cell_type": "code",
   "execution_count": null,
   "metadata": {},
   "outputs": [],
   "source": []
  },
  {
   "cell_type": "code",
   "execution_count": null,
   "metadata": {},
   "outputs": [],
   "source": []
  },
  {
   "cell_type": "code",
   "execution_count": 16,
   "metadata": {},
   "outputs": [
    {
     "data": {
      "text/plain": [
       "array([545.9991])"
      ]
     },
     "execution_count": 16,
     "metadata": {},
     "output_type": "execute_result"
    }
   ],
   "source": [
    "# To predict 11-6-21\n",
    "model.predict([[544.80,555.40,544.80,554.25,552.805444674627636580,178119,4272,98465153.00,46140,25.90,10.60,9.45]])"
   ]
  },
  {
   "cell_type": "code",
   "execution_count": 17,
   "metadata": {},
   "outputs": [
    {
     "data": {
      "text/plain": [
       "0.9944713894700304"
      ]
     },
     "execution_count": 17,
     "metadata": {},
     "output_type": "execute_result"
    }
   ],
   "source": [
    "model.score(x_test,y_test)  "
   ]
  },
  {
   "cell_type": "code",
   "execution_count": 18,
   "metadata": {},
   "outputs": [],
   "source": [
    "pred_y=model.predict(x_test)  #predicting the test data"
   ]
  },
  {
   "cell_type": "code",
   "execution_count": 34,
   "metadata": {},
   "outputs": [
    {
     "data": {
      "text/plain": [
       "7.948181065035808"
      ]
     },
     "execution_count": 34,
     "metadata": {},
     "output_type": "execute_result"
    }
   ],
   "source": [
    "#Root Mean Square\n",
    "mean_squared_error(y_test,pred_y,squared=False)  "
   ]
  },
  {
   "cell_type": "code",
   "execution_count": 20,
   "metadata": {},
   "outputs": [
    {
     "data": {
      "text/plain": [
       "63.173582242593746"
      ]
     },
     "execution_count": 20,
     "metadata": {},
     "output_type": "execute_result"
    }
   ],
   "source": [
    "mean_squared_error(y_test,pred_y)"
   ]
  },
  {
   "cell_type": "code",
   "execution_count": 21,
   "metadata": {},
   "outputs": [
    {
     "data": {
      "text/plain": [
       "5.477840740740731"
      ]
     },
     "execution_count": 21,
     "metadata": {},
     "output_type": "execute_result"
    }
   ],
   "source": [
    "mean_absolute_error(y_test,pred_y)"
   ]
  },
  {
   "cell_type": "code",
   "execution_count": null,
   "metadata": {},
   "outputs": [],
   "source": []
  },
  {
   "cell_type": "code",
   "execution_count": 22,
   "metadata": {},
   "outputs": [
    {
     "data": {
      "image/png": "[encoded data removed]",
      "text/plain": [
       "<Figure size 432x288 with 1 Axes>"
      ]
     },
     "metadata": {},
     "output_type": "display_data"
    }
   ],
   "source": [
    "#difference of predicted values and true values\n",
    "delta_y = y_test-pred_y;\n",
    "\n",
    "import seaborn as sns;  #visualization library\n",
    "import numpy as np;\n",
    "sns.set_style('whitegrid')\n",
    "sns.kdeplot(np.array(delta_y), bw=0.5)\n",
    "plt.show()"
   ]
  },
  {
   "cell_type": "code",
   "execution_count": 23,
   "metadata": {},
   "outputs": [
    {
     "data": {
      "image/png": "[encoded data removed]",
      "text/plain": [
       "<Figure size 432x288 with 1 Axes>"
      ]
     },
     "metadata": {},
     "output_type": "display_data"
    }
   ],
   "source": [
    "sns.set_style('whitegrid')\n",
    "sns.kdeplot(np.array(pred_y), bw=0.5)\n",
    "plt.show()"
   ]
  },
  {
   "cell_type": "code",
   "execution_count": 24,
   "metadata": {},
   "outputs": [
    {
     "data": {
      "image/png": "[encoded data removed]",
      "text/plain": [
       "<Figure size 432x288 with 1 Axes>"
      ]
     },
     "metadata": {},
     "output_type": "display_data"
    }
   ],
   "source": [
    "sns.set_style('whitegrid')\n",
    "sns.kdeplot(np.array(y_test), bw=0.5)\n",
    "plt.show()"
   ]
  },
  {
   "cell_type": "code",
   "execution_count": 25,
   "metadata": {},
   "outputs": [
    {
     "data": {
      "image/png": "[encoded data removed]",
      "text/plain": [
       "<Figure size 432x288 with 1 Axes>"
      ]
     },
     "metadata": {},
     "output_type": "display_data"
    }
   ],
   "source": [
    "plt.plot(pred_y,color='red', label='prediction')\n",
    "plt.plot(list(y_test),color='blue', label='y_test')\n",
    "plt.xlabel('days->')\n",
    "plt.ylabel('prices->')\n",
    "plt.legend(loc='upper left')\n",
    "plt.show()"
   ]
  },
  {
   "cell_type": "code",
   "execution_count": 26,
   "metadata": {},
   "outputs": [
    {
     "ename": "KeyError",
     "evalue": "'2003-01-01'",
     "output_type": "error",
     "traceback": [
      "\u001b[1;31m---------------------------------------------------------------------------\u001b[0m",
      "\u001b[1;31mTypeError\u001b[0m                                 Traceback (most recent call last)",
      "\u001b[1;32mpandas\\_libs\\index.pyx\u001b[0m in \u001b[0;36mpandas._libs.index.DatetimeEngine.get_loc\u001b[1;34m()\u001b[0m\n",
      "\u001b[1;32mpandas\\_libs\\hashtable_class_helper.pxi\u001b[0m in \u001b[0;36mpandas._libs.hashtable.Int64HashTable.get_item\u001b[1;34m()\u001b[0m\n",
      "\u001b[1;31mTypeError\u001b[0m: an integer is required",
      "\nDuring handling of the above exception, another exception occurred:\n",
      "\u001b[1;31mKeyError\u001b[0m                                  Traceback (most recent call last)",
      "\u001b[1;32m~\\anaconda3\\lib\\site-packages\\pandas\\core\\indexes\\base.py\u001b[0m in \u001b[0;36mget_loc\u001b[1;34m(self, key, method, tolerance)\u001b[0m\n\u001b[0;32m   2645\u001b[0m             \u001b[1;32mtry\u001b[0m\u001b[1;33m:\u001b[0m\u001b[1;33m\u001b[0m\u001b[1;33m\u001b[0m\u001b[0m\n\u001b[1;32m-> 2646\u001b[1;33m                 \u001b[1;32mreturn\u001b[0m \u001b[0mself\u001b[0m\u001b[1;33m.\u001b[0m\u001b[0m_engine\u001b[0m\u001b[1;33m.\u001b[0m\u001b[0mget_loc\u001b[0m\u001b[1;33m(\u001b[0m\u001b[0mkey\u001b[0m\u001b[1;33m)\u001b[0m\u001b[1;33m\u001b[0m\u001b[1;33m\u001b[0m\u001b[0m\n\u001b[0m\u001b[0;32m   2647\u001b[0m             \u001b[1;32mexcept\u001b[0m \u001b[0mKeyError\u001b[0m\u001b[1;33m:\u001b[0m\u001b[1;33m\u001b[0m\u001b[1;33m\u001b[0m\u001b[0m\n",
      "\u001b[1;32mpandas\\_libs\\index.pyx\u001b[0m in \u001b[0;36mpandas._libs.index.DatetimeEngine.get_loc\u001b[1;34m()\u001b[0m\n",
      "\u001b[1;32mpandas\\_libs\\index.pyx\u001b[0m in \u001b[0;36mpandas._libs.index.DatetimeEngine.get_loc\u001b[1;34m()\u001b[0m\n",
      "\u001b[1;32mpandas\\_libs\\index.pyx\u001b[0m in \u001b[0;36mpandas._libs.index.DatetimeEngine._date_check_type\u001b[1;34m()\u001b[0m\n",
      "\u001b[1;31mKeyError\u001b[0m: '2003-01-01'",
      "\nDuring handling of the above exception, another exception occurred:\n",
      "\u001b[1;31mTypeError\u001b[0m                                 Traceback (most recent call last)",
      "\u001b[1;32mpandas\\_libs\\index.pyx\u001b[0m in \u001b[0;36mpandas._libs.index.DatetimeEngine.get_loc\u001b[1;34m()\u001b[0m\n",
      "\u001b[1;32mpandas\\_libs\\hashtable_class_helper.pxi\u001b[0m in \u001b[0;36mpandas._libs.hashtable.Int64HashTable.get_item\u001b[1;34m()\u001b[0m\n",
      "\u001b[1;31mTypeError\u001b[0m: an integer is required",
      "\nDuring handling of the above exception, another exception occurred:\n",
      "\u001b[1;31mKeyError\u001b[0m                                  Traceback (most recent call last)",
      "\u001b[1;32m~\\anaconda3\\lib\\site-packages\\pandas\\core\\indexes\\datetimes.py\u001b[0m in \u001b[0;36mget_loc\u001b[1;34m(self, key, method, tolerance)\u001b[0m\n\u001b[0;32m    714\u001b[0m         \u001b[1;32mtry\u001b[0m\u001b[1;33m:\u001b[0m\u001b[1;33m\u001b[0m\u001b[1;33m\u001b[0m\u001b[0m\n\u001b[1;32m--> 715\u001b[1;33m             \u001b[1;32mreturn\u001b[0m \u001b[0mIndex\u001b[0m\u001b[1;33m.\u001b[0m\u001b[0mget_loc\u001b[0m\u001b[1;33m(\u001b[0m\u001b[0mself\u001b[0m\u001b[1;33m,\u001b[0m \u001b[0mkey\u001b[0m\u001b[1;33m,\u001b[0m \u001b[0mmethod\u001b[0m\u001b[1;33m,\u001b[0m \u001b[0mtolerance\u001b[0m\u001b[1;33m)\u001b[0m\u001b[1;33m\u001b[0m\u001b[1;33m\u001b[0m\u001b[0m\n\u001b[0m\u001b[0;32m    716\u001b[0m         \u001b[1;32mexcept\u001b[0m \u001b[1;33m(\u001b[0m\u001b[0mKeyError\u001b[0m\u001b[1;33m,\u001b[0m \u001b[0mValueError\u001b[0m\u001b[1;33m,\u001b[0m \u001b[0mTypeError\u001b[0m\u001b[1;33m)\u001b[0m\u001b[1;33m:\u001b[0m\u001b[1;33m\u001b[0m\u001b[1;33m\u001b[0m\u001b[0m\n",
      "\u001b[1;32m~\\anaconda3\\lib\\site-packages\\pandas\\core\\indexes\\base.py\u001b[0m in \u001b[0;36mget_loc\u001b[1;34m(self, key, method, tolerance)\u001b[0m\n\u001b[0;32m   2647\u001b[0m             \u001b[1;32mexcept\u001b[0m \u001b[0mKeyError\u001b[0m\u001b[1;33m:\u001b[0m\u001b[1;33m\u001b[0m\u001b[1;33m\u001b[0m\u001b[0m\n\u001b[1;32m-> 2648\u001b[1;33m                 \u001b[1;32mreturn\u001b[0m \u001b[0mself\u001b[0m\u001b[1;33m.\u001b[0m\u001b[0m_engine\u001b[0m\u001b[1;33m.\u001b[0m\u001b[0mget_loc\u001b[0m\u001b[1;33m(\u001b[0m\u001b[0mself\u001b[0m\u001b[1;33m.\u001b[0m\u001b[0m_maybe_cast_indexer\u001b[0m\u001b[1;33m(\u001b[0m\u001b[0mkey\u001b[0m\u001b[1;33m)\u001b[0m\u001b[1;33m)\u001b[0m\u001b[1;33m\u001b[0m\u001b[1;33m\u001b[0m\u001b[0m\n\u001b[0m\u001b[0;32m   2649\u001b[0m         \u001b[0mindexer\u001b[0m \u001b[1;33m=\u001b[0m \u001b[0mself\u001b[0m\u001b[1;33m.\u001b[0m\u001b[0mget_indexer\u001b[0m\u001b[1;33m(\u001b[0m\u001b[1;33m[\u001b[0m\u001b[0mkey\u001b[0m\u001b[1;33m]\u001b[0m\u001b[1;33m,\u001b[0m \u001b[0mmethod\u001b[0m\u001b[1;33m=\u001b[0m\u001b[0mmethod\u001b[0m\u001b[1;33m,\u001b[0m \u001b[0mtolerance\u001b[0m\u001b[1;33m=\u001b[0m\u001b[0mtolerance\u001b[0m\u001b[1;33m)\u001b[0m\u001b[1;33m\u001b[0m\u001b[1;33m\u001b[0m\u001b[0m\n",
      "\u001b[1;32mpandas\\_libs\\index.pyx\u001b[0m in \u001b[0;36mpandas._libs.index.DatetimeEngine.get_loc\u001b[1;34m()\u001b[0m\n",
      "\u001b[1;32mpandas\\_libs\\index.pyx\u001b[0m in \u001b[0;36mpandas._libs.index.DatetimeEngine.get_loc\u001b[1;34m()\u001b[0m\n",
      "\u001b[1;32mpandas\\_libs\\index.pyx\u001b[0m in \u001b[0;36mpandas._libs.index.DatetimeEngine._date_check_type\u001b[1;34m()\u001b[0m\n",
      "\u001b[1;31mKeyError\u001b[0m: '2003-01-01'",
      "\nDuring handling of the above exception, another exception occurred:\n",
      "\u001b[1;31mKeyError\u001b[0m                                  Traceback (most recent call last)",
      "\u001b[1;32mpandas\\_libs\\index.pyx\u001b[0m in \u001b[0;36mpandas._libs.index.DatetimeEngine.get_loc\u001b[1;34m()\u001b[0m\n",
      "\u001b[1;32mpandas\\_libs\\hashtable_class_helper.pxi\u001b[0m in \u001b[0;36mpandas._libs.hashtable.Int64HashTable.get_item\u001b[1;34m()\u001b[0m\n",
      "\u001b[1;32mpandas\\_libs\\hashtable_class_helper.pxi\u001b[0m in \u001b[0;36mpandas._libs.hashtable.Int64HashTable.get_item\u001b[1;34m()\u001b[0m\n",
      "\u001b[1;31mKeyError\u001b[0m: 1041379200000000000",
      "\nDuring handling of the above exception, another exception occurred:\n",
      "\u001b[1;31mKeyError\u001b[0m                                  Traceback (most recent call last)",
      "\u001b[1;32m~\\anaconda3\\lib\\site-packages\\pandas\\core\\indexes\\base.py\u001b[0m in \u001b[0;36mget_loc\u001b[1;34m(self, key, method, tolerance)\u001b[0m\n\u001b[0;32m   2645\u001b[0m             \u001b[1;32mtry\u001b[0m\u001b[1;33m:\u001b[0m\u001b[1;33m\u001b[0m\u001b[1;33m\u001b[0m\u001b[0m\n\u001b[1;32m-> 2646\u001b[1;33m                 \u001b[1;32mreturn\u001b[0m \u001b[0mself\u001b[0m\u001b[1;33m.\u001b[0m\u001b[0m_engine\u001b[0m\u001b[1;33m.\u001b[0m\u001b[0mget_loc\u001b[0m\u001b[1;33m(\u001b[0m\u001b[0mkey\u001b[0m\u001b[1;33m)\u001b[0m\u001b[1;33m\u001b[0m\u001b[1;33m\u001b[0m\u001b[0m\n\u001b[0m\u001b[0;32m   2647\u001b[0m             \u001b[1;32mexcept\u001b[0m \u001b[0mKeyError\u001b[0m\u001b[1;33m:\u001b[0m\u001b[1;33m\u001b[0m\u001b[1;33m\u001b[0m\u001b[0m\n",
      "\u001b[1;32mpandas\\_libs\\index.pyx\u001b[0m in \u001b[0;36mpandas._libs.index.DatetimeEngine.get_loc\u001b[1;34m()\u001b[0m\n",
      "\u001b[1;32mpandas\\_libs\\index.pyx\u001b[0m in \u001b[0;36mpandas._libs.index.DatetimeEngine.get_loc\u001b[1;34m()\u001b[0m\n",
      "\u001b[1;31mKeyError\u001b[0m: Timestamp('2003-01-01 00:00:00')",
      "\nDuring handling of the above exception, another exception occurred:\n",
      "\u001b[1;31mKeyError\u001b[0m                                  Traceback (most recent call last)",
      "\u001b[1;32mpandas\\_libs\\index.pyx\u001b[0m in \u001b[0;36mpandas._libs.index.DatetimeEngine.get_loc\u001b[1;34m()\u001b[0m\n",
      "\u001b[1;32mpandas\\_libs\\hashtable_class_helper.pxi\u001b[0m in \u001b[0;36mpandas._libs.hashtable.Int64HashTable.get_item\u001b[1;34m()\u001b[0m\n",
      "\u001b[1;32mpandas\\_libs\\hashtable_class_helper.pxi\u001b[0m in \u001b[0;36mpandas._libs.hashtable.Int64HashTable.get_item\u001b[1;34m()\u001b[0m\n",
      "\u001b[1;31mKeyError\u001b[0m: 1041379200000000000",
      "\nDuring handling of the above exception, another exception occurred:\n",
      "\u001b[1;31mKeyError\u001b[0m                                  Traceback (most recent call last)",
      "\u001b[1;32m~\\anaconda3\\lib\\site-packages\\pandas\\core\\indexes\\datetimes.py\u001b[0m in \u001b[0;36mget_loc\u001b[1;34m(self, key, method, tolerance)\u001b[0m\n\u001b[0;32m    727\u001b[0m                     \u001b[0mstamp\u001b[0m \u001b[1;33m=\u001b[0m \u001b[0mstamp\u001b[0m\u001b[1;33m.\u001b[0m\u001b[0mtz_localize\u001b[0m\u001b[1;33m(\u001b[0m\u001b[0mself\u001b[0m\u001b[1;33m.\u001b[0m\u001b[0mtz\u001b[0m\u001b[1;33m)\u001b[0m\u001b[1;33m\u001b[0m\u001b[1;33m\u001b[0m\u001b[0m\n\u001b[1;32m--> 728\u001b[1;33m                 \u001b[1;32mreturn\u001b[0m \u001b[0mIndex\u001b[0m\u001b[1;33m.\u001b[0m\u001b[0mget_loc\u001b[0m\u001b[1;33m(\u001b[0m\u001b[0mself\u001b[0m\u001b[1;33m,\u001b[0m \u001b[0mstamp\u001b[0m\u001b[1;33m,\u001b[0m \u001b[0mmethod\u001b[0m\u001b[1;33m,\u001b[0m \u001b[0mtolerance\u001b[0m\u001b[1;33m)\u001b[0m\u001b[1;33m\u001b[0m\u001b[1;33m\u001b[0m\u001b[0m\n\u001b[0m\u001b[0;32m    729\u001b[0m             \u001b[1;32mexcept\u001b[0m \u001b[0mKeyError\u001b[0m\u001b[1;33m:\u001b[0m\u001b[1;33m\u001b[0m\u001b[1;33m\u001b[0m\u001b[0m\n",
      "\u001b[1;32m~\\anaconda3\\lib\\site-packages\\pandas\\core\\indexes\\base.py\u001b[0m in \u001b[0;36mget_loc\u001b[1;34m(self, key, method, tolerance)\u001b[0m\n\u001b[0;32m   2647\u001b[0m             \u001b[1;32mexcept\u001b[0m \u001b[0mKeyError\u001b[0m\u001b[1;33m:\u001b[0m\u001b[1;33m\u001b[0m\u001b[1;33m\u001b[0m\u001b[0m\n\u001b[1;32m-> 2648\u001b[1;33m                 \u001b[1;32mreturn\u001b[0m \u001b[0mself\u001b[0m\u001b[1;33m.\u001b[0m\u001b[0m_engine\u001b[0m\u001b[1;33m.\u001b[0m\u001b[0mget_loc\u001b[0m\u001b[1;33m(\u001b[0m\u001b[0mself\u001b[0m\u001b[1;33m.\u001b[0m\u001b[0m_maybe_cast_indexer\u001b[0m\u001b[1;33m(\u001b[0m\u001b[0mkey\u001b[0m\u001b[1;33m)\u001b[0m\u001b[1;33m)\u001b[0m\u001b[1;33m\u001b[0m\u001b[1;33m\u001b[0m\u001b[0m\n\u001b[0m\u001b[0;32m   2649\u001b[0m         \u001b[0mindexer\u001b[0m \u001b[1;33m=\u001b[0m \u001b[0mself\u001b[0m\u001b[1;33m.\u001b[0m\u001b[0mget_indexer\u001b[0m\u001b[1;33m(\u001b[0m\u001b[1;33m[\u001b[0m\u001b[0mkey\u001b[0m\u001b[1;33m]\u001b[0m\u001b[1;33m,\u001b[0m \u001b[0mmethod\u001b[0m\u001b[1;33m=\u001b[0m\u001b[0mmethod\u001b[0m\u001b[1;33m,\u001b[0m \u001b[0mtolerance\u001b[0m\u001b[1;33m=\u001b[0m\u001b[0mtolerance\u001b[0m\u001b[1;33m)\u001b[0m\u001b[1;33m\u001b[0m\u001b[1;33m\u001b[0m\u001b[0m\n",
      "\u001b[1;32mpandas\\_libs\\index.pyx\u001b[0m in \u001b[0;36mpandas._libs.index.DatetimeEngine.get_loc\u001b[1;34m()\u001b[0m\n",
      "\u001b[1;32mpandas\\_libs\\index.pyx\u001b[0m in \u001b[0;36mpandas._libs.index.DatetimeEngine.get_loc\u001b[1;34m()\u001b[0m\n",
      "\u001b[1;31mKeyError\u001b[0m: Timestamp('2003-01-01 00:00:00')",
      "\nDuring handling of the above exception, another exception occurred:\n",
      "\u001b[1;31mKeyError\u001b[0m                                  Traceback (most recent call last)",
      "\u001b[1;32m<ipython-input-26-ebb1f730f94e>\u001b[0m in \u001b[0;36m<module>\u001b[1;34m\u001b[0m\n\u001b[1;32m----> 1\u001b[1;33m \u001b[0mdf\u001b[0m\u001b[1;33m.\u001b[0m\u001b[0mloc\u001b[0m\u001b[1;33m[\u001b[0m\u001b[1;34m'2003-01-01'\u001b[0m\u001b[1;33m]\u001b[0m\u001b[1;33m[\u001b[0m\u001b[1;34m'Open Price'\u001b[0m\u001b[1;33m]\u001b[0m\u001b[1;33m\u001b[0m\u001b[1;33m\u001b[0m\u001b[0m\n\u001b[0m",
      "\u001b[1;32m~\\anaconda3\\lib\\site-packages\\pandas\\core\\indexing.py\u001b[0m in \u001b[0;36m__getitem__\u001b[1;34m(self, key)\u001b[0m\n\u001b[0;32m   1766\u001b[0m \u001b[1;33m\u001b[0m\u001b[0m\n\u001b[0;32m   1767\u001b[0m             \u001b[0mmaybe_callable\u001b[0m \u001b[1;33m=\u001b[0m \u001b[0mcom\u001b[0m\u001b[1;33m.\u001b[0m\u001b[0mapply_if_callable\u001b[0m\u001b[1;33m(\u001b[0m\u001b[0mkey\u001b[0m\u001b[1;33m,\u001b[0m \u001b[0mself\u001b[0m\u001b[1;33m.\u001b[0m\u001b[0mobj\u001b[0m\u001b[1;33m)\u001b[0m\u001b[1;33m\u001b[0m\u001b[1;33m\u001b[0m\u001b[0m\n\u001b[1;32m-> 1768\u001b[1;33m             \u001b[1;32mreturn\u001b[0m \u001b[0mself\u001b[0m\u001b[1;33m.\u001b[0m\u001b[0m_getitem_axis\u001b[0m\u001b[1;33m(\u001b[0m\u001b[0mmaybe_callable\u001b[0m\u001b[1;33m,\u001b[0m \u001b[0maxis\u001b[0m\u001b[1;33m=\u001b[0m\u001b[0maxis\u001b[0m\u001b[1;33m)\u001b[0m\u001b[1;33m\u001b[0m\u001b[1;33m\u001b[0m\u001b[0m\n\u001b[0m\u001b[0;32m   1769\u001b[0m \u001b[1;33m\u001b[0m\u001b[0m\n\u001b[0;32m   1770\u001b[0m     \u001b[1;32mdef\u001b[0m \u001b[0m_is_scalar_access\u001b[0m\u001b[1;33m(\u001b[0m\u001b[0mself\u001b[0m\u001b[1;33m,\u001b[0m \u001b[0mkey\u001b[0m\u001b[1;33m:\u001b[0m \u001b[0mTuple\u001b[0m\u001b[1;33m)\u001b[0m\u001b[1;33m:\u001b[0m\u001b[1;33m\u001b[0m\u001b[1;33m\u001b[0m\u001b[0m\n",
      "\u001b[1;32m~\\anaconda3\\lib\\site-packages\\pandas\\core\\indexing.py\u001b[0m in \u001b[0;36m_getitem_axis\u001b[1;34m(self, key, axis)\u001b[0m\n\u001b[0;32m   1963\u001b[0m         \u001b[1;31m# fall thru to straight lookup\u001b[0m\u001b[1;33m\u001b[0m\u001b[1;33m\u001b[0m\u001b[1;33m\u001b[0m\u001b[0m\n\u001b[0;32m   1964\u001b[0m         \u001b[0mself\u001b[0m\u001b[1;33m.\u001b[0m\u001b[0m_validate_key\u001b[0m\u001b[1;33m(\u001b[0m\u001b[0mkey\u001b[0m\u001b[1;33m,\u001b[0m \u001b[0maxis\u001b[0m\u001b[1;33m)\u001b[0m\u001b[1;33m\u001b[0m\u001b[1;33m\u001b[0m\u001b[0m\n\u001b[1;32m-> 1965\u001b[1;33m         \u001b[1;32mreturn\u001b[0m \u001b[0mself\u001b[0m\u001b[1;33m.\u001b[0m\u001b[0m_get_label\u001b[0m\u001b[1;33m(\u001b[0m\u001b[0mkey\u001b[0m\u001b[1;33m,\u001b[0m \u001b[0maxis\u001b[0m\u001b[1;33m=\u001b[0m\u001b[0maxis\u001b[0m\u001b[1;33m)\u001b[0m\u001b[1;33m\u001b[0m\u001b[1;33m\u001b[0m\u001b[0m\n\u001b[0m\u001b[0;32m   1966\u001b[0m \u001b[1;33m\u001b[0m\u001b[0m\n\u001b[0;32m   1967\u001b[0m \u001b[1;33m\u001b[0m\u001b[0m\n",
      "\u001b[1;32m~\\anaconda3\\lib\\site-packages\\pandas\\core\\indexing.py\u001b[0m in \u001b[0;36m_get_label\u001b[1;34m(self, label, axis)\u001b[0m\n\u001b[0;32m    623\u001b[0m             \u001b[1;32mraise\u001b[0m \u001b[0mIndexingError\u001b[0m\u001b[1;33m(\u001b[0m\u001b[1;34m\"no slices here, handle elsewhere\"\u001b[0m\u001b[1;33m)\u001b[0m\u001b[1;33m\u001b[0m\u001b[1;33m\u001b[0m\u001b[0m\n\u001b[0;32m    624\u001b[0m \u001b[1;33m\u001b[0m\u001b[0m\n\u001b[1;32m--> 625\u001b[1;33m         \u001b[1;32mreturn\u001b[0m \u001b[0mself\u001b[0m\u001b[1;33m.\u001b[0m\u001b[0mobj\u001b[0m\u001b[1;33m.\u001b[0m\u001b[0m_xs\u001b[0m\u001b[1;33m(\u001b[0m\u001b[0mlabel\u001b[0m\u001b[1;33m,\u001b[0m \u001b[0maxis\u001b[0m\u001b[1;33m=\u001b[0m\u001b[0maxis\u001b[0m\u001b[1;33m)\u001b[0m\u001b[1;33m\u001b[0m\u001b[1;33m\u001b[0m\u001b[0m\n\u001b[0m\u001b[0;32m    626\u001b[0m \u001b[1;33m\u001b[0m\u001b[0m\n\u001b[0;32m    627\u001b[0m     \u001b[1;32mdef\u001b[0m \u001b[0m_get_loc\u001b[0m\u001b[1;33m(\u001b[0m\u001b[0mself\u001b[0m\u001b[1;33m,\u001b[0m \u001b[0mkey\u001b[0m\u001b[1;33m:\u001b[0m \u001b[0mint\u001b[0m\u001b[1;33m,\u001b[0m \u001b[0maxis\u001b[0m\u001b[1;33m:\u001b[0m \u001b[0mint\u001b[0m\u001b[1;33m)\u001b[0m\u001b[1;33m:\u001b[0m\u001b[1;33m\u001b[0m\u001b[1;33m\u001b[0m\u001b[0m\n",
      "\u001b[1;32m~\\anaconda3\\lib\\site-packages\\pandas\\core\\generic.py\u001b[0m in \u001b[0;36mxs\u001b[1;34m(self, key, axis, level, drop_level)\u001b[0m\n\u001b[0;32m   3535\u001b[0m             \u001b[0mloc\u001b[0m\u001b[1;33m,\u001b[0m \u001b[0mnew_index\u001b[0m \u001b[1;33m=\u001b[0m \u001b[0mself\u001b[0m\u001b[1;33m.\u001b[0m\u001b[0mindex\u001b[0m\u001b[1;33m.\u001b[0m\u001b[0mget_loc_level\u001b[0m\u001b[1;33m(\u001b[0m\u001b[0mkey\u001b[0m\u001b[1;33m,\u001b[0m \u001b[0mdrop_level\u001b[0m\u001b[1;33m=\u001b[0m\u001b[0mdrop_level\u001b[0m\u001b[1;33m)\u001b[0m\u001b[1;33m\u001b[0m\u001b[1;33m\u001b[0m\u001b[0m\n\u001b[0;32m   3536\u001b[0m         \u001b[1;32melse\u001b[0m\u001b[1;33m:\u001b[0m\u001b[1;33m\u001b[0m\u001b[1;33m\u001b[0m\u001b[0m\n\u001b[1;32m-> 3537\u001b[1;33m             \u001b[0mloc\u001b[0m \u001b[1;33m=\u001b[0m \u001b[0mself\u001b[0m\u001b[1;33m.\u001b[0m\u001b[0mindex\u001b[0m\u001b[1;33m.\u001b[0m\u001b[0mget_loc\u001b[0m\u001b[1;33m(\u001b[0m\u001b[0mkey\u001b[0m\u001b[1;33m)\u001b[0m\u001b[1;33m\u001b[0m\u001b[1;33m\u001b[0m\u001b[0m\n\u001b[0m\u001b[0;32m   3538\u001b[0m \u001b[1;33m\u001b[0m\u001b[0m\n\u001b[0;32m   3539\u001b[0m             \u001b[1;32mif\u001b[0m \u001b[0misinstance\u001b[0m\u001b[1;33m(\u001b[0m\u001b[0mloc\u001b[0m\u001b[1;33m,\u001b[0m \u001b[0mnp\u001b[0m\u001b[1;33m.\u001b[0m\u001b[0mndarray\u001b[0m\u001b[1;33m)\u001b[0m\u001b[1;33m:\u001b[0m\u001b[1;33m\u001b[0m\u001b[1;33m\u001b[0m\u001b[0m\n",
      "\u001b[1;32m~\\anaconda3\\lib\\site-packages\\pandas\\core\\indexes\\datetimes.py\u001b[0m in \u001b[0;36mget_loc\u001b[1;34m(self, key, method, tolerance)\u001b[0m\n\u001b[0;32m    728\u001b[0m                 \u001b[1;32mreturn\u001b[0m \u001b[0mIndex\u001b[0m\u001b[1;33m.\u001b[0m\u001b[0mget_loc\u001b[0m\u001b[1;33m(\u001b[0m\u001b[0mself\u001b[0m\u001b[1;33m,\u001b[0m \u001b[0mstamp\u001b[0m\u001b[1;33m,\u001b[0m \u001b[0mmethod\u001b[0m\u001b[1;33m,\u001b[0m \u001b[0mtolerance\u001b[0m\u001b[1;33m)\u001b[0m\u001b[1;33m\u001b[0m\u001b[1;33m\u001b[0m\u001b[0m\n\u001b[0;32m    729\u001b[0m             \u001b[1;32mexcept\u001b[0m \u001b[0mKeyError\u001b[0m\u001b[1;33m:\u001b[0m\u001b[1;33m\u001b[0m\u001b[1;33m\u001b[0m\u001b[0m\n\u001b[1;32m--> 730\u001b[1;33m                 \u001b[1;32mraise\u001b[0m \u001b[0mKeyError\u001b[0m\u001b[1;33m(\u001b[0m\u001b[0mkey\u001b[0m\u001b[1;33m)\u001b[0m\u001b[1;33m\u001b[0m\u001b[1;33m\u001b[0m\u001b[0m\n\u001b[0m\u001b[0;32m    731\u001b[0m             \u001b[1;32mexcept\u001b[0m \u001b[0mValueError\u001b[0m \u001b[1;32mas\u001b[0m \u001b[0me\u001b[0m\u001b[1;33m:\u001b[0m\u001b[1;33m\u001b[0m\u001b[1;33m\u001b[0m\u001b[0m\n\u001b[0;32m    732\u001b[0m                 \u001b[1;31m# list-like tolerance size must match target index size\u001b[0m\u001b[1;33m\u001b[0m\u001b[1;33m\u001b[0m\u001b[1;33m\u001b[0m\u001b[0m\n",
      "\u001b[1;31mKeyError\u001b[0m: '2003-01-01'"
     ]
    }
   ],
   "source": [
    "df.loc['2003-01-01']['Open Price']"
   ]
  },
  {
   "cell_type": "code",
   "execution_count": null,
   "metadata": {},
   "outputs": [],
   "source": []
  },
  {
   "cell_type": "code",
   "execution_count": null,
   "metadata": {},
   "outputs": [],
   "source": []
  }
 ],
 "metadata": {
  "kernelspec": {
   "display_name": "Python 3",
   "language": "python",
   "name": "python3"
  },
  "language_info": {
   "codemirror_mode": {
    "name": "ipython",
    "version": 3
   },
   "file_extension": ".py",
   "mimetype": "text/x-python",
   "name": "python",
   "nbconvert_exporter": "python",
   "pygments_lexer": "ipython3",
   "version": "3.8.3"
  }
 },
 "nbformat": 4,
 "nbformat_minor": 4
}
